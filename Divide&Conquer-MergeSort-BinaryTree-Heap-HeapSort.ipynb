{
 "cells": [
  {
   "cell_type": "code",
   "execution_count": 19,
   "metadata": {},
   "outputs": [],
   "source": [
    "class Node:\n",
    "\n",
    "    def __init__(self, data):\n",
    "\n",
    "        self.left = None\n",
    "        self.right = None\n",
    "        self.data = data\n",
    "\n",
    "    def insert(self, data):\n",
    "    # Compare the new value with the parent node\n",
    "        if self.data:\n",
    "            if data < self.data:\n",
    "                if self.left is None:\n",
    "                    self.left = Node(data)\n",
    "                else:\n",
    "                    self.left.insert(data)\n",
    "            elif data > self.data:\n",
    "                if self.right is None:\n",
    "                    self.right = Node(data)\n",
    "                else:\n",
    "                    self.right.insert(data)\n",
    "        else:\n",
    "            self.data = data\n",
    "\n",
    "    # Inorder tree traversal\n",
    "    def inorder(self):\n",
    "        if self.left:\n",
    "            self.left.inorder()\n",
    "        print( self.data),\n",
    "        if self.right:\n",
    "            self.right.inorder()\n",
    "            \n",
    "    def pre(self):\n",
    "        print( self.data),\n",
    "        if self.left:\n",
    "            self.left.pre()\n",
    "        if self.right:\n",
    "            self.right.pre()\n",
    "        \n",
    "    def post(self):\n",
    "        if self.left:\n",
    "            self.left.post()\n",
    "        if self.right:\n",
    "            self.right.post()\n",
    "        print(self.data)\n",
    "    \n",
    "    def search(self,value):\n",
    "        if self.data == value:\n",
    "            print(True)\n",
    "            return True\n",
    "        else:\n",
    "            if value > self.data:\n",
    "                self.right.search(value)\n",
    "            else:\n",
    "                self.left.search(value)\n",
    "            \n",
    "    def height(self):\n",
    "        leftHeight = rightHeight = 0\n",
    "        if self.left:\n",
    "            leftHeight =  self.left.height() + 1\n",
    "        if self.right:\n",
    "            rightHeight = self.right.height()\n",
    "        return max(leftHeight, rightHeight)\n",
    "\n",
    "\n"
   ]
  },
  {
   "cell_type": "code",
   "execution_count": 7,
   "metadata": {},
   "outputs": [],
   "source": [
    "# Create a tree and insert in \n",
    "root = Node(12)\n",
    "root.insert(6)\n",
    "root.insert(14)\n",
    "root.insert(3)"
   ]
  },
  {
   "cell_type": "code",
   "execution_count": 8,
   "metadata": {},
   "outputs": [
    {
     "name": "stdout",
     "output_type": "stream",
     "text": [
      "Inorder\n",
      "3\n",
      "6\n",
      "12\n",
      "14\n",
      "Preorder\n",
      "12\n",
      "6\n",
      "3\n",
      "14\n",
      "Postorder\n",
      "3\n",
      "6\n",
      "14\n",
      "12\n"
     ]
    }
   ],
   "source": [
    "#Tree Traversal\n",
    "print(\"Inorder\")\n",
    "root.inorder()\n",
    "print(\"Preorder\")\n",
    "root.pre()\n",
    "print(\"Postorder\")\n",
    "root.post()"
   ]
  },
  {
   "cell_type": "markdown",
   "metadata": {},
   "source": [
    "### Handling NoneType Error, Attribute error"
   ]
  },
  {
   "cell_type": "raw",
   "metadata": {},
   "source": [
    "None Type error occurs when to function of a class; that is expecting class object a normal\n",
    "variable is passed. As in the below case 5 is never set as a node value and thus the function search\n",
    "throws Attribute error. \n",
    "If you set 5 to a node data type and then pass that value; at  line\" if value > self.data:\"\n",
    "it gives an error \"'>' not supported between instances of 'Node' and 'int'\""
   ]
  },
  {
   "cell_type": "code",
   "execution_count": 20,
   "metadata": {},
   "outputs": [
    {
     "name": "stdout",
     "output_type": "stream",
     "text": [
      "True\n",
      "True\n",
      "Attribute Exeception error; Not a value in tree\n"
     ]
    }
   ],
   "source": [
    "#Search for a value in a tree \n",
    "root.search(6)\n",
    "root.search(14)\n",
    "#value = Node(5)\n",
    "#root.search(value)\n",
    "try:\n",
    "    root.search(5)\n",
    "except AttributeError:\n",
    "    print('Attribute Exeception error; Not a value in tree')\n",
    "    "
   ]
  },
  {
   "cell_type": "code",
   "execution_count": 21,
   "metadata": {},
   "outputs": [
    {
     "name": "stdout",
     "output_type": "stream",
     "text": [
      "Height of the given tree is: 2\n"
     ]
    }
   ],
   "source": [
    "print(\"Height of the given tree is:\", height(root))"
   ]
  },
  {
   "cell_type": "markdown",
   "metadata": {},
   "source": [
    "## Zigzac Tree Traversal leetcode"
   ]
  },
  {
   "cell_type": "raw",
   "metadata": {},
   "source": [
    "Given a binary tree, return the zigzag level order traversal of its nodes' values. (ie, from left to right, then right to left for the next level and alternate between).\n",
    "\n",
    "For example:\n",
    "Given binary tree [3,9,20,null,null,15,7],\n",
    "    3\n",
    "   / \\\n",
    "  9  20\n",
    "    /  \\\n",
    "   15   7\n",
    "return its zigzag level order traversal as:\n",
    "[\n",
    "  [3],\n",
    "  [20,9],\n",
    "  [15,7]\n",
    "]\n"
   ]
  },
  {
   "cell_type": "code",
   "execution_count": 33,
   "metadata": {},
   "outputs": [
    {
     "name": "stdout",
     "output_type": "stream",
     "text": [
      "[(<__main__.TreeNode object at 0x7fec90045400>, 0)]\n",
      "[['a'], ['c', 'b'], ['d', 'e', 'f']]\n"
     ]
    }
   ],
   "source": [
    "# Definition for a binary tree node.\n",
    "class TreeNode(object):\n",
    "    def __init__(self, x):\n",
    "        self.val = x\n",
    "        self.left = None\n",
    "        self.right = None\n",
    "\n",
    "class Solution(object):\n",
    "    def zigzagLevelOrder(self, root):\n",
    "        \"\"\"\n",
    "        :type root: TreeNode\n",
    "        :rtype: List[List[int]]\n",
    "        \"\"\"\n",
    "        if root == None:\n",
    "            return []\n",
    "        queue = []\n",
    "        ans = []\n",
    "        queue.append((root,0))\n",
    "        while queue:\n",
    "            node,level = queue.pop(0)\n",
    "            if node.left:\n",
    "                queue.append((node.left,level+1))\n",
    "            if node.right:\n",
    "                queue.append((node.right,level+1))\n",
    "            if len(ans) <= level:\n",
    "                ans.append([])\n",
    "            if level % 2 == 0:\n",
    "                ans[level].append(node.val)\n",
    "            else:\n",
    "                ans[level].insert(0,node.val)\n",
    "        return ans\n",
    "\n",
    "\n",
    "root = TreeNode('a')\n",
    "node1 = TreeNode('b')\n",
    "node2 = TreeNode('c')\n",
    "node3 = TreeNode('d')\n",
    "node4 = TreeNode('e')\n",
    "node5 = TreeNode('f')\n",
    "root.left = node1\n",
    "root.right = node2\n",
    "node1.left = node3\n",
    "node1.right = node4\n",
    "node2.right = node5\n",
    "sol = Solution()\n",
    "print(sol.zigzagLevelOrder(root))\n"
   ]
  },
  {
   "cell_type": "code",
   "execution_count": 34,
   "metadata": {},
   "outputs": [
    {
     "name": "stdout",
     "output_type": "stream",
     "text": [
      "['b', ('root', 0), [], 'a']\n"
     ]
    }
   ],
   "source": [
    "queue = []\n",
    "queue.append(('root', 0))\n",
    "queue.append([])\n",
    "queue.append('a')\n",
    "queue.insert(0, 'b')\n",
    "print(queue)"
   ]
  },
  {
   "cell_type": "markdown",
   "metadata": {},
   "source": [
    "## Given preorder and inorder traversal of a tree, construct the binary tree."
   ]
  },
  {
   "cell_type": "raw",
   "metadata": {},
   "source": [
    "\n",
    "\n",
    "Note:\n",
    "You may assume that duplicates do not exist in the tree.\n",
    "\n",
    "For example, given\n",
    "\n",
    "preorder = [3,9,20,15,7]\n",
    "inorder = [9,3,15,20,7]\n",
    "Return the following binary tree:\n",
    "\n",
    "    3\n",
    "   / \\\n",
    "  9  20\n",
    "    /  \\\n",
    "   15   7"
   ]
  },
  {
   "cell_type": "code",
   "execution_count": 76,
   "metadata": {},
   "outputs": [
    {
     "name": "stdout",
     "output_type": "stream",
     "text": [
      "b\n",
      "c\n",
      "d\n",
      "a\n",
      "None\n",
      "b\n"
     ]
    },
    {
     "data": {
      "text/plain": [
       "<__main__.TreeNode at 0x7fec892fcf28>"
      ]
     },
     "execution_count": 76,
     "metadata": {},
     "output_type": "execute_result"
    }
   ],
   "source": [
    "#construct a tree from preorder and inorder\n",
    "# Definition for a binary tree node.\n",
    "class TreeNode(object):\n",
    "    def __init__(self, x):\n",
    "        self.val = x\n",
    "        self.left = None\n",
    "        self.right = None\n",
    "    \n",
    "    def post(self, root):\n",
    "        if root.left:\n",
    "            root.left.post()\n",
    "        if root.right:\n",
    "            root.right.post()\n",
    "        print(root.val)\n",
    "\n",
    "class Solution(object):\n",
    "    def buildTree(self, preorder, inorder):\n",
    "        \"\"\"\n",
    "        :type preorder: List[int]\n",
    "        :type inorder: List[int]\n",
    "        :rtype: TreeNode\n",
    "        \"\"\"\n",
    "        if len(preorder) == len(inorder) == 0:\n",
    "            return None\n",
    "        \n",
    "        root = TreeNode(preorder[0])\n",
    "        nodeLocation = inorder.index(preorder[0])\n",
    "        \n",
    "        root.left = self.buildTree(preorder[1:nodeLocation+1], inorder [:nodeLocation])\n",
    "   \n",
    "        root.right = self.buildTree(preorder[nodeLocation+1:], inorder [nodeLocation+1:])\n",
    "        \n",
    "        print(root.val)\n",
    "        print(root.left.val)\n",
    "        print(root.right.val)\n",
    "        return root\n",
    "\n",
    "    \n",
    "preorder = ['a', None, 'b','c','d']\n",
    "inorder = [None, 'a','c','b','d']\n",
    "#preorder = [3,9,20,15,7]\n",
    "#inorder = [9,3,15,20,7]\n",
    "sol = Solution()\n",
    "sol.buildTree(preorder, inorder)"
   ]
  },
  {
   "cell_type": "code",
   "execution_count": null,
   "metadata": {},
   "outputs": [],
   "source": [
    "#construct a tree from preorder and inorder\n",
    "# Definition for a binary tree node.\n",
    "class TreeNode(object):\n",
    "    def __init__(self, x):\n",
    "        self.val = x\n",
    "        self.left = None\n",
    "        self.right = None\n",
    "    \n",
    "    def post(self, root):\n",
    "        if root.left:\n",
    "            root.left.post()\n",
    "        if root.right:\n",
    "            root.right.post()\n",
    "        print(root.val)\n",
    "\n",
    "class Solution(object):\n",
    "    def buildTree(self, preorder, inorder):\n",
    "        if len(preorder) == len(inorder) == 0:\n",
    "            return None\n",
    "        \n",
    "        root = TreeNode(preorder[0])\n",
    "        nodeLocation = inorder.index(preorder[0])\n",
    "        \n",
    "        root.left = self.buildTree(preorder[1:nodeLocation+1], inorder [:nodeLocation])\n",
    "   \n",
    "        root.right = self.buildTree(preorder[nodeLocation+1:], inorder [nodeLocation+1:])\n",
    "        \n",
    "        print(root.val)\n",
    "        print(root.left.val)\n",
    "        print(root.right.val)\n",
    "        return root\n",
    "\n",
    "    \n",
    "preorder = ['a', None, 'b','c','d']\n",
    "inorder = [None, 'a','c','b','d']\n",
    "#preorder = [3,9,20,15,7]\n",
    "#inorder = [9,3,15,20,7]\n",
    "sol = Solution()\n",
    "sol.buildTree(preorder, inorder)"
   ]
  },
  {
   "cell_type": "code",
   "execution_count": null,
   "metadata": {},
   "outputs": [],
   "source": [
    "# Definition for a binary tree node.\n",
    "class TreeNode(object):\n",
    "    def __init__(self, x):\n",
    "        self.val = x\n",
    "        self.left = None\n",
    "        self.right = None\n",
    "       \n",
    "    \n",
    "    \n",
    "class Solution(object):\n",
    "    def __init__(self):\n",
    "        self.nums = []\n",
    "    \n",
    "    def kthSmallest(self, root, k):\n",
    "        \"\"\"\n",
    "        :type root: TreeNode\n",
    "        :type k: int\n",
    "        :rtype: int\n",
    "        \"\"\"\n",
    "        if root.left and root.right == None:\n",
    "            return root.val\n",
    "        nums = sorted(self.inorder(root))\n",
    "        print(nums)\n",
    "        for i in range(1, len(nums)):\n",
    "            print(i)\n",
    "            if i == k:\n",
    "                return nums[i]\n",
    "        \n",
    "    \n",
    "    def inorder(self,root):\n",
    "        if root.left:\n",
    "            self.inorder(root.left)\n",
    "        self.nums.append(root.val)\n",
    "        if root.right:\n",
    "            self.inorder(root.right)\n",
    "        return self.nums\n",
    "        \n",
    "    \n",
    "sol = Solution()\n",
    "sol."
   ]
  },
  {
   "cell_type": "markdown",
   "metadata": {},
   "source": [
    "# Divide and Conquer Algorithm\n",
    "\n",
    "#### For the divide and conquer alogithms adapt the following process: 1. Divide the problem into sub problems. 2. Use recurssion to solve the sub problems. 3. Combine solutions of sub problem to find the final problem solution.\n",
    "\n",
    "#### Example: Merge sort; or Tree traversal:inorder, preorder, Binary search, matrix multiplication"
   ]
  },
  {
   "cell_type": "code",
   "execution_count": 85,
   "metadata": {},
   "outputs": [
    {
     "name": "stdout",
     "output_type": "stream",
     "text": [
      "[17, 20, 26, 31, 44, 54, 55, 77, 93]\n"
     ]
    }
   ],
   "source": [
    "def mergeSort(alist):\n",
    "    #print(\"Splitting \",alist)\n",
    "    if len(alist)>1:\n",
    "        mid = len(alist)//2\n",
    "        lefthalf = alist[:mid]\n",
    "        righthalf = alist[mid:]\n",
    "        mergeSort(lefthalf)\n",
    "        mergeSort(righthalf)\n",
    "        i,j,k = 0,0,0\n",
    "        while i < len(lefthalf) and j < len(righthalf):\n",
    "            if lefthalf[i] < righthalf[j]:\n",
    "                alist[k]=lefthalf[i]\n",
    "                i+= 1\n",
    "            else:\n",
    "                alist[k]=righthalf[j]\n",
    "                j+= 1\n",
    "            k+= 1\n",
    "        while i < len(lefthalf):\n",
    "            alist[k]=lefthalf[i]\n",
    "            i+= 1\n",
    "            k+= 1\n",
    "        while j < len(righthalf):\n",
    "            alist[k]=righthalf[j]\n",
    "            j+=1\n",
    "            k+=1\n",
    "    #print(\"Merging \",alist)\n",
    "\n",
    "alist = [54,26,93,17,77,31,44,55,20]\n",
    "mergeSort(alist)\n",
    "print(alist)\n"
   ]
  },
  {
   "cell_type": "markdown",
   "metadata": {},
   "source": [
    "## Application of Complete Binary Tree Heap Datastructure"
   ]
  },
  {
   "cell_type": "code",
   "execution_count": 90,
   "metadata": {},
   "outputs": [
    {
     "name": "stdout",
     "output_type": "stream",
     "text": [
      "[21, 1, 45, 78, 3, 5, 7]\n",
      "None\n"
     ]
    }
   ],
   "source": [
    "import heapq\n",
    "\n",
    "nums = [21,1,45,78,3,5,7]\n",
    "heapq.heapify(nums)\n",
    "print(nums)\n",
    "print(heapq._heapify_max(nums))"
   ]
  },
  {
   "cell_type": "raw",
   "metadata": {},
   "source": [
    "An heap can be represented as a list with parent at i/2 and left child at 2i and right at\n",
    "2i+1\n",
    "The above maxheap would be stored as [78, 21, 45, 1, 3, 5, 7]"
   ]
  },
  {
   "cell_type": "code",
   "execution_count": null,
   "metadata": {},
   "outputs": [],
   "source": [
    "class maxHeap(object):\n",
    "    \n",
    "    def __init__(self):\n",
    "        self.result = []\n",
    "        \n",
    "    def push(self,value):\n",
    "        self.result.append(value)\n",
    "        result = self.heapify(self.result.index(value))\n",
    "        return result\n",
    "#while loop will get stuck in infite loop, you moved to using for loop and you ended up having\n",
    "#index out of range error. Also why do you want to do all the heavy logic in one place\n",
    "#modularize your code. Since you dont do that you are land in bugs and more time to code\n",
    "    def heapify(self, index):\n",
    "        while index < len(self.result):\n",
    "            parent = self.result[index//2]\n",
    "            if parent < self.result[index]:\n",
    "                #swap\n",
    "                temp = parent\n",
    "                parent = self.result[index]\n",
    "                self.result[index] = parent    \n",
    "        return self.result\n",
    "\n",
    "heap = maxHeap()\n",
    "heap.push(21)\n",
    "heap.push(1)\n",
    "heap.push(45)\n",
    "heap.push(78)\n",
    "heap.push(3)\n",
    "heap.push(5)\n",
    "heap.push(7)\n",
    "print(result) \n"
   ]
  },
  {
   "cell_type": "markdown",
   "metadata": {},
   "source": [
    "## Maxheap implementation with array concept. \n",
    "Parent = n//2\n",
    "left child = 2i right child=2*i+1\n",
    "Insert at the end of array; after every insert run the heapify function. \n",
    "This heapify will simply check if parent value is greater than or equal to child value if not\n",
    "it will swap\n",
    "Also note swap in python dont simply use temp and prove u r self more dump"
   ]
  },
  {
   "cell_type": "code",
   "execution_count": 117,
   "metadata": {},
   "outputs": [
    {
     "name": "stdout",
     "output_type": "stream",
     "text": [
      "[21]\n",
      "[21, 1]\n",
      "[45, 21, 1]\n",
      "[98, 45, 1, 21]\n"
     ]
    }
   ],
   "source": [
    "class maxHeap(object):\n",
    "    def __init__(self, nums):\n",
    "        self.heap = []\n",
    "        for value in nums:\n",
    "            self.heap.append(value)\n",
    "            self.heapify(len(self.heap) -1)\n",
    "            self.printMaxheap()\n",
    "            \n",
    "    def heapify(self, index):\n",
    "        parent = index//2\n",
    "        if index <= 0:\n",
    "            return\n",
    "        elif self.heap[index]>self.heap[parent]:\n",
    "            self.swap(index, parent)\n",
    "            self.heapify(parent)\n",
    "\n",
    "    def swap(self, index, parent):\n",
    "        self.heap[index], self.heap[parent] = self.heap[parent], self.heap[index]\n",
    "\n",
    "    def printMaxheap(self):\n",
    "        print(self.heap)\n",
    "\n",
    "mheap = maxHeap([21,1,45, 98])"
   ]
  },
  {
   "cell_type": "raw",
   "metadata": {},
   "source": [
    "Maxheap with push, pop, swap TC O(log n), peek O(1), bubble down- resort the heap when a value\n",
    "is poped"
   ]
  },
  {
   "cell_type": "code",
   "execution_count": 118,
   "metadata": {},
   "outputs": [
    {
     "name": "stdout",
     "output_type": "stream",
     "text": [
      "[95, 10, 21, 3]\n",
      "10\n"
     ]
    }
   ],
   "source": [
    "class MaxHeap:\n",
    "    def __init__(self, items=[]):\n",
    "        super().__init__()\n",
    "        self.heap=[]\n",
    "        for i in items:\n",
    "            self.heap.append(i)\n",
    "            self.__floatUp(len(self.heap) - 1)\n",
    "\n",
    "    def push(self, data):\n",
    "        self.heap.append(data)\n",
    "        self.__floatUp(len(self.heap) - 1)\n",
    "\n",
    "    def peek(self):\n",
    "        if self.heap[1]:\n",
    "            return self.heap[1]\n",
    "        else:\n",
    "            return False\n",
    "    \n",
    "    def pop(self):\n",
    "        if len(self.heap) > 2:\n",
    "            self.__swap(1, len(self.heap) - 1)\n",
    "            max = self.heap.pop()\n",
    "            self.__bubbleDown(1)\n",
    "        elif len(self.heap) == 2:\n",
    "            max = self.heap.pop()\n",
    "        else: \n",
    "            max = False\n",
    "        return max\n",
    "\n",
    "    def __swap(self, i, j):\n",
    "        self.heap[i], self.heap[j] = self.heap[j], self.heap[i]\n",
    "\n",
    "    def __floatUp(self, index):\n",
    "        parent = index//2\n",
    "        if index <= 1:\n",
    "            return\n",
    "        elif self.heap[index] > self.heap[parent]:\n",
    "            self.__swap(index, parent)\n",
    "            self.__floatUp(parent)\n",
    "\n",
    "    def __bubbleDown(self, index):\n",
    "        left = index * 2\n",
    "        right = index * 2 + 1\n",
    "        largest = index\n",
    "        if len(self.heap) > left and self.heap[largest] < self.heap[left]:\n",
    "            largest = left\n",
    "        if len(self.heap) > right and self.heap[largest] < self.heap[right]:\n",
    "            largest = right\n",
    "        if largest != index:\n",
    "            self.__swap(index, largest)\n",
    "            self.__bubbleDown(largest)\n",
    "\n",
    "m = MaxHeap([95, 3, 21])\n",
    "m.push(10)\n",
    "print(str(m.heap[0:len(m.heap)]))\n",
    "print(str(m.pop()))\n"
   ]
  },
  {
   "cell_type": "markdown",
   "metadata": {},
   "source": [
    "## Heap sort takes O(nlogn) becasue to build max heap takes of O(n)  and after every insert heapify is called which takes O(logn)."
   ]
  },
  {
   "cell_type": "code",
   "execution_count": null,
   "metadata": {},
   "outputs": [],
   "source": [
    "To do heap sort; first we need to build a heap and then sort"
   ]
  },
  {
   "cell_type": "code",
   "execution_count": 120,
   "metadata": {},
   "outputs": [
    {
     "name": "stdout",
     "output_type": "stream",
     "text": [
      "[-2, 1, 2, 3, 5, 7, 56]\n"
     ]
    }
   ],
   "source": [
    "def swap(i, j):                    \n",
    "    sqc[i], sqc[j] = sqc[j], sqc[i] \n",
    "\n",
    "def heapify(end,i):   \n",
    "    l=2 * i +1 \n",
    "    r=2 * (i + 1)\n",
    "    print(l,r)\n",
    "    max=i   \n",
    "    if l < end and sqc[i] < sqc[l]:   \n",
    "        max = l   \n",
    "    if r < end and sqc[max] < sqc[r]:   \n",
    "        max = r   \n",
    "    if max != i:   \n",
    "        swap(i, max)   \n",
    "        heapify(end, max)   \n",
    "\n",
    "def heap_sort():     \n",
    "    end = len(sqc)   \n",
    "    start = end // 2 - 1 # use // instead of /\n",
    "    for i in range(start, -1, -1):   \n",
    "        heapify(end, i)   \n",
    "    for i in range(end-1, 0, -1):   \n",
    "        swap(i, 0)   \n",
    "        heapify(i, 0)   \n",
    "\n",
    "sqc = [2, 7, 1, -2, 56, 5, 3]\n",
    "heap_sort()\n",
    "print(sqc)"
   ]
  },
  {
   "cell_type": "markdown",
   "metadata": {},
   "source": [
    "### Built in library heapq"
   ]
  },
  {
   "cell_type": "code",
   "execution_count": null,
   "metadata": {},
   "outputs": [],
   "source": [
    "from heapq import heappush, heappop\n",
    "def heapsort(iterable):\n",
    "    h = []\n",
    "    for value in iterable:\n",
    "        heappush(h, value)\n",
    "    return [heappop(h) for i in range(len(h))]\n",
    "\n",
    "heapsort([1, 3, 5, 7, 9, 2, 4, 6, 8, 0])"
   ]
  },
  {
   "cell_type": "code",
   "execution_count": 121,
   "metadata": {},
   "outputs": [
    {
     "data": {
      "text/plain": [
       "8"
      ]
     },
     "execution_count": 121,
     "metadata": {},
     "output_type": "execute_result"
    }
   ],
   "source": [
    "len([45, 21, 8, 7, 1, 3, 5, 7])"
   ]
  },
  {
   "cell_type": "code",
   "execution_count": 131,
   "metadata": {},
   "outputs": [
    {
     "name": "stdout",
     "output_type": "stream",
     "text": [
      "[21]\n",
      "[21, 1]\n",
      "[45, 21, 1]\n",
      "[98, 45, 1, 21]\n",
      "[21]\n",
      "[21, 1]\n",
      "[45, 21, 1]\n",
      "[45, 21, 1, 7]\n",
      "[45, 21, 8, 7, 1]\n",
      "[45, 21, 8, 7, 1, 3]\n",
      "[45, 21, 8, 7, 1, 3, 5]\n",
      "[45, 21, 8, 7, 1, 3, 5, 7]\n",
      "Stage 1 Max heap is: [45, 21, 8, 7, 1, 3, 5, 7]\n",
      "Values to swap 45 7\n",
      "1 2\n",
      "3 4\n",
      "Values to swap 21 5\n",
      "1 2\n",
      "5 6\n",
      "Values to swap 8 3\n",
      "1 2\n",
      "3 4\n",
      "7 8\n",
      "Values to swap 7 1\n",
      "1 2\n",
      "3 4\n",
      "Values to swap 7 3\n",
      "1 2\n",
      "Values to swap 3 5\n",
      "1 2\n",
      "Values to swap 5 1\n",
      "1 2\n",
      "[1, 5, 3, 7, 7, 8, 21, 45]\n",
      "None\n"
     ]
    }
   ],
   "source": [
    "class maxHeap(object):\n",
    "    def __init__(self, nums):\n",
    "        self.heap = []\n",
    "        for value in nums:\n",
    "            self.heap.append(value)\n",
    "            self.heapify(len(self.heap) -1)\n",
    "            self.printMaxheap()\n",
    "\n",
    "    def heapify(self, index):\n",
    "        parent = index//2\n",
    "        if index <= 0:\n",
    "            return\n",
    "        elif self.heap[index]>self.heap[parent]:\n",
    "            self.swap(index, parent)\n",
    "            self.heapify(parent)\n",
    "\n",
    "    def swap(self, index, parent):\n",
    "        self.heap[index], self.heap[parent] = self.heap[parent], self.heap[index]\n",
    "\n",
    "    def printMaxheap(self):\n",
    "        print(self.heap)\n",
    "\n",
    "    def heapifySort(self, end, i):\n",
    "        l = 2 * i + 1\n",
    "        r = 2 * (i + 1)\n",
    "        print(l, r)\n",
    "        max = i\n",
    "        if l < end and self.heap[i] < self.heap[l]:\n",
    "            max = l\n",
    "        if r < end and self.heap[max] < self.heap[r]:\n",
    "            max = r\n",
    "        if max != i:\n",
    "            self.swap(i, max)\n",
    "            self.heapifySort(end, max)\n",
    "        return\n",
    "\n",
    "    def heapSort(self, nums):\n",
    "        self.__init__(nums)\n",
    "        print(\"Stage 1 Max heap is:\", self.heap)\n",
    "        for end in range(len(self.heap)-1, 0, -1):\n",
    "            print(\"Values to swap\", self.heap[0], self.heap[end])\n",
    "            self.swap(0, end)\n",
    "            self.heapifySort(end-1, 0)\n",
    "        print(self.heap)\n",
    "        return None\n",
    "\n",
    "\n",
    "\n",
    "mheap = maxHeap([21,1,45, 98])\n",
    "print(mheap.heapSort([21,1,45,7,8,3,5,7]))"
   ]
  },
  {
   "cell_type": "code",
   "execution_count": null,
   "metadata": {},
   "outputs": [],
   "source": []
  }
 ],
 "metadata": {
  "kernelspec": {
   "display_name": "Python 3",
   "language": "python",
   "name": "python3"
  },
  "language_info": {
   "codemirror_mode": {
    "name": "ipython",
    "version": 3
   },
   "file_extension": ".py",
   "mimetype": "text/x-python",
   "name": "python",
   "nbconvert_exporter": "python",
   "pygments_lexer": "ipython3",
   "version": "3.6.7"
  }
 },
 "nbformat": 4,
 "nbformat_minor": 2
}
