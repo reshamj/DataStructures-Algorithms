{
 "cells": [
  {
   "cell_type": "code",
   "execution_count": 5,
   "metadata": {},
   "outputs": [
    {
     "name": "stdout",
     "output_type": "stream",
     "text": [
      "{'glossary': {'title': 'example glossary', 'GlossDiv': {'title': 'S', 'GlossList': {'GlossEntry': {'ID': 'SGML', 'SortAs': 'SGML', 'GlossTerm': 'Standard Generalized Markup Language', 'Acronym': 'SGML', 'Abbrev': 'ISO 8879:1986', 'GlossDef': {'para': 'A meta-markup language, used to create markup languages such as DocBook.', 'GlossSeeAlso': ['GML', 'XML']}, 'GlossSee': 'markup'}}}}}\n"
     ]
    },
    {
     "data": {
      "text/plain": [
       "dict"
      ]
     },
     "execution_count": 5,
     "metadata": {},
     "output_type": "execute_result"
    }
   ],
   "source": [
    "import json\n",
    "data = \"\"\"{\n",
    "    \"glossary\": {\n",
    "        \"title\": \"example glossary\",\n",
    "\t\t\"GlossDiv\": {\n",
    "            \"title\": \"S\",\n",
    "\t\t\t\"GlossList\": {\n",
    "                \"GlossEntry\": {\n",
    "                    \"ID\": \"SGML\",\n",
    "\t\t\t\t\t\"SortAs\": \"SGML\",\n",
    "\t\t\t\t\t\"GlossTerm\": \"Standard Generalized Markup Language\",\n",
    "\t\t\t\t\t\"Acronym\": \"SGML\",\n",
    "\t\t\t\t\t\"Abbrev\": \"ISO 8879:1986\",\n",
    "\t\t\t\t\t\"GlossDef\": {\n",
    "                        \"para\": \"A meta-markup language, used to create markup languages such as DocBook.\",\n",
    "\t\t\t\t\t\t\"GlossSeeAlso\": [\"GML\", \"XML\"]\n",
    "                    },\n",
    "\t\t\t\t\t\"GlossSee\": \"markup\"\n",
    "                }\n",
    "            }\n",
    "        }\n",
    "    }\n",
    "}\"\"\"\n",
    "\n",
    "#to load data if it is string->json use loads\n",
    "data = json.loads(data)\n",
    "print(data)\n",
    "\n",
    "#query a dict\n",
    "type(data)\n"
   ]
  },
  {
   "cell_type": "code",
   "execution_count": 18,
   "metadata": {},
   "outputs": [
    {
     "name": "stdout",
     "output_type": "stream",
     "text": [
      "{'menu': [{'id': '1', 'value': 'File1', 'popup': {'menuitem': [{'value': 'New', 'onclick': 'CreateNewDoc()'}, {'value': 'Open', 'onclick': 'OpenDoc()'}, {'value': 'Close', 'onclick': 'CloseDoc()'}]}}, {'id': '2', 'value': 'FileB', 'popup': {'menuitem': [{'value': 'New', 'onclick': 'CreateOldDoc()'}, {'value': 'Open', 'onclick': 'OLDDoc()'}, {'value': 'Close', 'onclick': 'OLDCloseDoc()'}]}}]}\n"
     ]
    }
   ],
   "source": [
    "string = \"\"\"{\n",
    "  \"menu\":\n",
    "  [{\n",
    "    \"id\": \"1\",\n",
    "    \"value\": \"File1\",\n",
    "    \"popup\": {\n",
    "      \"menuitem\": [\n",
    "        {\n",
    "          \"value\": \"New\",\n",
    "          \"onclick\": \"CreateNewDoc()\"\n",
    "        },\n",
    "        {\n",
    "          \"value\": \"Open\",\n",
    "          \"onclick\": \"OpenDoc()\"\n",
    "        },\n",
    "        {\n",
    "          \"value\": \"Close\",\n",
    "          \"onclick\": \"CloseDoc()\"\n",
    "        }\n",
    "      ]\n",
    "    }\n",
    "  },\n",
    "  {\n",
    "    \"id\": \"2\",\n",
    "    \"value\": \"FileB\",\n",
    "    \"popup\": {\n",
    "      \"menuitem\": [\n",
    "        {\n",
    "          \"value\": \"New\",\n",
    "          \"onclick\": \"CreateOldDoc()\"\n",
    "        },\n",
    "        {\n",
    "          \"value\": \"Open\",\n",
    "          \"onclick\": \"OLDDoc()\"\n",
    "        },\n",
    "        {\n",
    "          \"value\": \"Close\",\n",
    "          \"onclick\": \"OLDCloseDoc()\"\n",
    "        }\n",
    "      ]\n",
    "    }\n",
    "  }\n",
    "  \n",
    "  ]\n",
    "}\"\"\"\n",
    "data = json.loads(string)\n",
    "print(data)"
   ]
  },
  {
   "cell_type": "code",
   "execution_count": 26,
   "metadata": {},
   "outputs": [
    {
     "name": "stdout",
     "output_type": "stream",
     "text": [
      "{'value': 'New', 'onclick': 'CreateNewDoc()'}\n",
      "1\n"
     ]
    }
   ],
   "source": [
    "#Query 1 Find id where Onclick = createnewdoc\n",
    "#need to return data['menu'][0]['id']\n",
    "for i in data['menu']:\n",
    "    tempDict = i\n",
    "    temp = tempDict['popup']['menuitem']\n",
    "    for val in temp:\n",
    "        if val['onclick'] == \"CreateNewDoc()\":\n",
    "            print(val)\n",
    "            print(tempDict['id'])"
   ]
  },
  {
   "cell_type": "code",
   "execution_count": 16,
   "metadata": {},
   "outputs": [
    {
     "name": "stdout",
     "output_type": "stream",
     "text": [
      "{'value': 'New', 'onclick': 'CreateNewDoc()'}\n",
      "got it\n",
      "{'value': 'Open', 'onclick': 'OpenDoc()'}\n",
      "{'value': 'Close', 'onclick': 'CloseDoc()'}\n"
     ]
    }
   ],
   "source": [
    "temp = data['menu']['popup']['menuitem']\n",
    "\n",
    "for i in temp:\n",
    "    dic = i\n",
    "    print(i)\n",
    "    if dic['onclick'] == \"CreateNewDoc()\":\n",
    "        print(\"got it\")\n",
    "        return \n",
    "        "
   ]
  },
  {
   "cell_type": "code",
   "execution_count": 29,
   "metadata": {},
   "outputs": [
    {
     "name": "stdout",
     "output_type": "stream",
     "text": [
      "a\n"
     ]
    }
   ],
   "source": [
    "pstring = 'abcd'\n",
    "string1 = 'a'\n",
    "pstring = string1[::-1]\n",
    "if string1 == pstring:\n",
    "    print(string1)\n",
    "    "
   ]
  },
  {
   "cell_type": "code",
   "execution_count": 38,
   "metadata": {},
   "outputs": [
    {
     "name": "stdout",
     "output_type": "stream",
     "text": [
      "dcba\n"
     ]
    }
   ],
   "source": [
    "pstring = 'abcd'\n",
    "print(pstring[::-1])"
   ]
  },
  {
   "cell_type": "code",
   "execution_count": 47,
   "metadata": {},
   "outputs": [
    {
     "name": "stdout",
     "output_type": "stream",
     "text": [
      "1\n"
     ]
    }
   ],
   "source": [
    "string = 'jhangianiresham'\n",
    "substring = 'resham'\n",
    "result = sum([ 1 for i in range(len(string)-len(substring)+1) if string[i:i+len   (substring)] == substring])\n",
    "print(result)"
   ]
  },
  {
   "cell_type": "code",
   "execution_count": 48,
   "metadata": {},
   "outputs": [
    {
     "name": "stdout",
     "output_type": "stream",
     "text": [
      "i : 0\n",
      "i : 1\n",
      "i : 2\n",
      "i : 3\n",
      "i : 4\n",
      "i : 5\n",
      "i : 6\n",
      "i : 7\n",
      "i : 8\n",
      "i : 9\n",
      "string :  resham\n"
     ]
    }
   ],
   "source": [
    "for i in range(len(string)- len(substring)+1):\n",
    "    print(\"i :\", i)\n",
    "    if string[i:i+len(substring)]== substring:\n",
    "        print(\"string : \" , string[i:i+len(substring)])\n"
   ]
  },
  {
   "cell_type": "code",
   "execution_count": 51,
   "metadata": {},
   "outputs": [
    {
     "name": "stdout",
     "output_type": "stream",
     "text": [
      "csu is a substring\n"
     ]
    }
   ],
   "source": [
    "def isSubstring(string, substring):\n",
    "    length = len(string) \n",
    "    minlength = len(substring)\n",
    "    for i in range(length - minlength + 1):\n",
    "        if string[i:i+ minlength] == substring:\n",
    "            print(\"{0} is a substring\".format(string[i:i+ minlength]))\n",
    "    return \n",
    " \n",
    "\n",
    "\n",
    "isSubstring(\"csuf\", \"csu\")"
   ]
  },
  {
   "cell_type": "code",
   "execution_count": 54,
   "metadata": {},
   "outputs": [
    {
     "name": "stdout",
     "output_type": "stream",
     "text": [
      "26\n"
     ]
    }
   ],
   "source": [
    "#Recurssion\n",
    "\n",
    "def listSum(ls):\n",
    "    if not ls:\n",
    "        return 0\n",
    "    # First element + result of calling `listsum` with rest of the elements\n",
    "    return ls[0] + listSum(ls[1:])\n",
    "\n",
    "print(listSum([1,3,4,5,6,7]))\n"
   ]
  },
  {
   "cell_type": "code",
   "execution_count": null,
   "metadata": {},
   "outputs": [],
   "source": []
  }
 ],
 "metadata": {
  "kernelspec": {
   "display_name": "Python 3",
   "language": "python",
   "name": "python3"
  },
  "language_info": {
   "codemirror_mode": {
    "name": "ipython",
    "version": 3
   },
   "file_extension": ".py",
   "mimetype": "text/x-python",
   "name": "python",
   "nbconvert_exporter": "python",
   "pygments_lexer": "ipython3",
   "version": "3.6.7"
  }
 },
 "nbformat": 4,
 "nbformat_minor": 2
}
