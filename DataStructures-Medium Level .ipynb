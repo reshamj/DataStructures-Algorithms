{
 "cells": [
  {
   "cell_type": "code",
   "execution_count": 3,
   "metadata": {},
   "outputs": [],
   "source": [
    "import sys\n",
    "\n",
    "def main():\n",
    "    pairs = []\n",
    "    \n",
    "    for line in sys.stdin:\n",
    "        if len(line.strip()) == 0:\n",
    "            continue\n",
    "            \n",
    "        line = line.rstrip()\n",
    "        \n",
    "        pairs.append(line.split(\" \"))\n",
    "        \n",
    "    #print(findMidpointCpurse(pairs))\n",
    "    \n",
    "main()"
   ]
  },
  {
   "cell_type": "code",
   "execution_count": 27,
   "metadata": {},
   "outputs": [
    {
     "ename": "TypeError",
     "evalue": "'int' object is not iterable",
     "output_type": "error",
     "traceback": [
      "\u001b[0;31m---------------------------------------------------------------------------\u001b[0m",
      "\u001b[0;31mTypeError\u001b[0m                                 Traceback (most recent call last)",
      "\u001b[0;32m<ipython-input-27-854486079bae>\u001b[0m in \u001b[0;36m<module>\u001b[0;34m\u001b[0m\n\u001b[1;32m     17\u001b[0m     \u001b[0;32mreturn\u001b[0m \u001b[0;32mNone\u001b[0m\u001b[0;34m\u001b[0m\u001b[0;34m\u001b[0m\u001b[0m\n\u001b[1;32m     18\u001b[0m \u001b[0;34m\u001b[0m\u001b[0m\n\u001b[0;32m---> 19\u001b[0;31m \u001b[0mfindMidpointCourse\u001b[0m\u001b[0;34m(\u001b[0m\u001b[0mpairs\u001b[0m\u001b[0;34m)\u001b[0m\u001b[0;34m\u001b[0m\u001b[0;34m\u001b[0m\u001b[0m\n\u001b[0m",
      "\u001b[0;32m<ipython-input-27-854486079bae>\u001b[0m in \u001b[0;36mfindMidpointCourse\u001b[0;34m(pairs)\u001b[0m\n\u001b[1;32m      6\u001b[0m     \u001b[0mcourse\u001b[0m \u001b[0;34m=\u001b[0m \u001b[0;34m[\u001b[0m\u001b[0;34m]\u001b[0m\u001b[0;34m\u001b[0m\u001b[0;34m\u001b[0m\u001b[0m\n\u001b[1;32m      7\u001b[0m \u001b[0;34m\u001b[0m\u001b[0m\n\u001b[0;32m----> 8\u001b[0;31m     \u001b[0;32mfor\u001b[0m \u001b[0mx\u001b[0m\u001b[0;34m,\u001b[0m\u001b[0my\u001b[0m \u001b[0;32min\u001b[0m \u001b[0mrange\u001b[0m\u001b[0;34m(\u001b[0m\u001b[0mlen\u001b[0m\u001b[0;34m(\u001b[0m\u001b[0mpairs\u001b[0m\u001b[0;34m)\u001b[0m\u001b[0;34m)\u001b[0m\u001b[0;34m:\u001b[0m\u001b[0;34m\u001b[0m\u001b[0;34m\u001b[0m\u001b[0m\n\u001b[0m\u001b[1;32m      9\u001b[0m         \u001b[0mpreq\u001b[0m\u001b[0;34m.\u001b[0m\u001b[0mappend\u001b[0m\u001b[0;34m(\u001b[0m\u001b[0mx\u001b[0m\u001b[0;34m)\u001b[0m\u001b[0;34m\u001b[0m\u001b[0;34m\u001b[0m\u001b[0m\n\u001b[1;32m     10\u001b[0m         \u001b[0mcourse\u001b[0m\u001b[0;34m.\u001b[0m\u001b[0mappend\u001b[0m\u001b[0;34m(\u001b[0m\u001b[0my\u001b[0m\u001b[0;34m)\u001b[0m\u001b[0;34m\u001b[0m\u001b[0;34m\u001b[0m\u001b[0m\n",
      "\u001b[0;31mTypeError\u001b[0m: 'int' object is not iterable"
     ]
    }
   ],
   "source": [
    "#company interview question intuit\n",
    "pairs =  ['Datastructure', 'Algorithm', 'FCS', 'OS', 'cnt', 'CA', 'Algo', 'FCS', 'CA', 'DS', 'SD', 'cnt']\n",
    "\n",
    "def findMidpointCourse(pairs):\n",
    "    dict1 = {}\n",
    "    preq = []\n",
    "    course = []\n",
    "    \n",
    "    for x,y in enumerate(pairs):\n",
    "        preq.append(x)\n",
    "        course.append(y)\n",
    "    dict1 = dict(zip(preq,course))\n",
    "    \n",
    "    print(preq)\n",
    "    print(course)\n",
    "    print(dict1)\n",
    "    \n",
    "    return None \n",
    "\n",
    "findMidpointCourse(pairs)"
   ]
  },
  {
   "cell_type": "code",
   "execution_count": 23,
   "metadata": {},
   "outputs": [
    {
     "name": "stdout",
     "output_type": "stream",
     "text": [
      "Datastructure\n"
     ]
    }
   ],
   "source": [
    "pairs =  ['Datastructure', 'Algorithm', 'FCS', 'OS', 'cnt', 'CA', 'Algo', 'FCS', 'CA', 'DS', 'SD', 'cnt']\n",
    "print(pairs[0])\n"
   ]
  },
  {
   "cell_type": "code",
   "execution_count": 29,
   "metadata": {},
   "outputs": [
    {
     "name": "stdout",
     "output_type": "stream",
     "text": [
      "[(0, 'Datastructure'), (1, 'Algorithm'), (2, 'FCS'), (3, 'OS'), (4, 'cnt'), (5, 'CA'), (6, 'Algo'), (7, 'FCS'), (8, 'CA'), (9, 'DS'), (10, 'SD'), (11, 'cnt')]\n"
     ]
    }
   ],
   "source": [
    "pairs =  ['Datastructure', 'Algorithm', 'FCS', 'OS', 'cnt', 'CA', 'Algo', 'FCS', 'CA', 'DS', 'SD', 'cnt']\n",
    "print(list(enumerate(pairs)))\n"
   ]
  },
  {
   "cell_type": "code",
   "execution_count": 34,
   "metadata": {},
   "outputs": [
    {
     "name": "stdout",
     "output_type": "stream",
     "text": [
      "[-4, -1, -1, 0, 1, 2]\n"
     ]
    }
   ],
   "source": [
    "nums = [-1, 0, 1, 2, -1, -4]\n",
    "nums = sorted(nums)\n",
    "print(nums)"
   ]
  },
  {
   "cell_type": "code",
   "execution_count": 42,
   "metadata": {},
   "outputs": [
    {
     "name": "stdout",
     "output_type": "stream",
     "text": [
      "[-4, -1, -1, 0, 1, 2]\n",
      "0 1 2\n",
      "-6\n",
      "1 2 3\n",
      "-2\n",
      "2 3 4\n",
      "0\n",
      "3 4 5\n",
      "3\n",
      "4 5 6\n"
     ]
    },
    {
     "ename": "IndexError",
     "evalue": "list index out of range",
     "output_type": "error",
     "traceback": [
      "\u001b[0;31m---------------------------------------------------------------------------\u001b[0m",
      "\u001b[0;31mIndexError\u001b[0m                                Traceback (most recent call last)",
      "\u001b[0;32m<ipython-input-42-01397a1eb1d3>\u001b[0m in \u001b[0;36m<module>\u001b[0;34m\u001b[0m\n\u001b[1;32m      7\u001b[0m     \u001b[0mr\u001b[0m \u001b[0;34m=\u001b[0m \u001b[0mi\u001b[0m\u001b[0;34m+\u001b[0m\u001b[0;36m1\u001b[0m\u001b[0;34m\u001b[0m\u001b[0;34m\u001b[0m\u001b[0m\n\u001b[1;32m      8\u001b[0m     \u001b[0mprint\u001b[0m\u001b[0;34m(\u001b[0m\u001b[0ml\u001b[0m\u001b[0;34m,\u001b[0m\u001b[0mi\u001b[0m\u001b[0;34m,\u001b[0m\u001b[0mr\u001b[0m\u001b[0;34m)\u001b[0m\u001b[0;34m\u001b[0m\u001b[0;34m\u001b[0m\u001b[0m\n\u001b[0;32m----> 9\u001b[0;31m     \u001b[0msum\u001b[0m \u001b[0;34m=\u001b[0m \u001b[0mnums\u001b[0m\u001b[0;34m[\u001b[0m\u001b[0ml\u001b[0m\u001b[0;34m]\u001b[0m \u001b[0;34m+\u001b[0m \u001b[0mnums\u001b[0m \u001b[0;34m[\u001b[0m\u001b[0mi\u001b[0m\u001b[0;34m]\u001b[0m \u001b[0;34m+\u001b[0m \u001b[0mnums\u001b[0m\u001b[0;34m[\u001b[0m\u001b[0mr\u001b[0m\u001b[0;34m]\u001b[0m\u001b[0;34m\u001b[0m\u001b[0;34m\u001b[0m\u001b[0m\n\u001b[0m\u001b[1;32m     10\u001b[0m     \u001b[0mprint\u001b[0m\u001b[0;34m(\u001b[0m\u001b[0msum\u001b[0m\u001b[0;34m)\u001b[0m\u001b[0;34m\u001b[0m\u001b[0;34m\u001b[0m\u001b[0m\n\u001b[1;32m     11\u001b[0m \u001b[0;34m\u001b[0m\u001b[0m\n",
      "\u001b[0;31mIndexError\u001b[0m: list index out of range"
     ]
    }
   ],
   "source": [
    "nums = [-1, 0, 1, 2, -1, -4]\n",
    "nums = sorted(nums)\n",
    "print(nums)\n",
    "l =0 ;\n",
    "for l in range(0, len(nums)):\n",
    "    i = l+1\n",
    "    r = i+1\n",
    "    print(l,i,r)\n",
    "    sum = nums[l] + nums [i] + nums[r]\n",
    "    print(sum)\n",
    "    \n",
    "    "
   ]
  },
  {
   "cell_type": "code",
   "execution_count": 7,
   "metadata": {},
   "outputs": [
    {
     "name": "stdout",
     "output_type": "stream",
     "text": [
      "[-4, -1, -1, 0, 1, 2]\n",
      "[(-1, 0, 1)]\n"
     ]
    }
   ],
   "source": [
    "nums = [-1, 0, 1, 2, -1, -4]\n",
    "nums = sorted(nums)\n",
    "print(nums)\n",
    "\n",
    "if(nums[1] > 0):\n",
    "    print(\"All numbers positive a + b + c can never be zero \")\n",
    "else:\n",
    "    result = []\n",
    "    l =0 ;\n",
    "    max = len(nums) - 2\n",
    "    for l in range(0, max):\n",
    "        i = l+1\n",
    "        r = i+1 \n",
    "        sum = sum = nums[l] + nums [i] + nums[r]\n",
    "        if sum == 0:\n",
    "            result.append(tuple([nums[l], nums[i], nums[r]]))\n",
    "        else:\n",
    "            continue\n",
    "    \n",
    "    \n",
    "\n",
    "print(result)"
   ]
  },
  {
   "cell_type": "markdown",
   "metadata": {},
   "source": [
    "## Two Sum Problem"
   ]
  },
  {
   "cell_type": "code",
   "execution_count": 8,
   "metadata": {},
   "outputs": [
    {
     "data": {
      "text/plain": [
       "(5, 8)"
      ]
     },
     "execution_count": 8,
     "metadata": {},
     "output_type": "execute_result"
    }
   ],
   "source": [
    "def twosum(nums=(6, 7, 11, 15, 3, 6, 5, 3), target=6):\n",
    "    lookup = dict(((v, i) for i, v in enumerate(nums)))\n",
    "    return next(( (i+1, lookup.get(target-v)+1) \n",
    "            for i, v in enumerate(nums) \n",
    "                if lookup.get(target-v, i) != i), None)\n",
    "    return None\n",
    "\n",
    "twosum()"
   ]
  },
  {
   "cell_type": "code",
   "execution_count": 35,
   "metadata": {
    "scrolled": true
   },
   "outputs": [
    {
     "name": "stdout",
     "output_type": "stream",
     "text": [
      "arr[i] 3\n",
      "sumMinusElement = 4\n",
      "{}\n",
      "{3: 3}\n",
      "arr[i] 5\n",
      "sumMinusElement = 2\n",
      "{3: 3}\n",
      "{3: 3, 5: 5}\n",
      "arr[i] 2\n",
      "sumMinusElement = 5\n",
      "{3: 3, 5: 5}\n",
      "{3: 3, 5: 5, 2: 2}\n",
      "arr[i] -4\n",
      "sumMinusElement = 11\n",
      "{3: 3, 5: 5, 2: 2}\n",
      "{3: 3, 5: 5, 2: 2, -4: -4}\n",
      "arr[i] 8\n",
      "sumMinusElement = -1\n",
      "{3: 3, 5: 5, 2: 2, -4: -4}\n",
      "{3: 3, 5: 5, 2: 2, -4: -4, 8: 8}\n",
      "arr[i] 11\n",
      "sumMinusElement = -4\n",
      "{3: 3, 5: 5, 2: 2, -4: -4, 8: 8}\n",
      "{3: 3, 5: 5, 2: 2, -4: -4, 8: 8, 11: 11}\n",
      "[[2, 5], [11, -4]]\n"
     ]
    }
   ],
   "source": [
    "def twoSum(arr, S):\n",
    "    sums= []\n",
    "    hashTable = {}\n",
    "    \n",
    "    \n",
    "    for i in range(0, len(arr)):\n",
    "        print(\"arr[i]\", arr[i])\n",
    "        sumMinusElement = S - arr[i]\n",
    "        print(\"sumMinusElement =\" ,sumMinusElement)\n",
    "        print(hashTable)\n",
    "        if sumMinusElement in hashTable:\n",
    "            sums.append([arr[i], sumMinusElement])\n",
    "        hashTable[arr[i]] = arr[i]\n",
    "        print(hashTable)\n",
    "    return sums\n",
    "\n",
    "\n",
    "print(twoSum([3, 5, 2, -4, 8, 11 ], 7))"
   ]
  },
  {
   "cell_type": "code",
   "execution_count": 16,
   "metadata": {},
   "outputs": [
    {
     "name": "stdout",
     "output_type": "stream",
     "text": [
      "0 6\n",
      "1 7\n",
      "2 11\n",
      "3 15\n",
      "4 3\n",
      "5 6\n",
      "6 5\n",
      "7 3\n",
      "{6: 5, 7: 1, 11: 2, 15: 3, 3: 7, 5: 6}\n"
     ]
    }
   ],
   "source": [
    "nums=(6, 7, 11, 15, 3, 6, 5, 3)\n",
    "for i, v in enumerate(nums):\n",
    "    print(i,v)\n",
    "\n",
    "print(dict(((v, i) for i, v in enumerate(nums))))"
   ]
  },
  {
   "cell_type": "code",
   "execution_count": 11,
   "metadata": {},
   "outputs": [
    {
     "name": "stdout",
     "output_type": "stream",
     "text": [
      "{6: 5, 7: 1, 11: 2, 15: 3, 3: 7, 5: 6}\n"
     ]
    }
   ],
   "source": [
    "nums=(6, 7, 11, 15, 3, 6, 5, 3)\n",
    "lookup = dict(((v, i) for i, v in enumerate(nums)))\n",
    "print(lookup)"
   ]
  },
  {
   "cell_type": "markdown",
   "metadata": {},
   "source": [
    "## Optimized 2 sum problem"
   ]
  },
  {
   "cell_type": "code",
   "execution_count": 39,
   "metadata": {},
   "outputs": [
    {
     "name": "stdout",
     "output_type": "stream",
     "text": [
      "[[3, -11], [3, -11]]\n"
     ]
    }
   ],
   "source": [
    "#Two sums \n",
    "\n",
    "def twosums(array, target):\n",
    "    result = []\n",
    "    hashtable = {}\n",
    "    \n",
    "    for i in range(0, len(array)):\n",
    "        SumMinusElement = target - array[i]\n",
    "        if SumMinusElement in hashtable:\n",
    "            result.append([array[i], SumMinusElement])\n",
    "        hashtable[array[i]] = array[i]\n",
    "    return result \n",
    "\n",
    "result = twosums([6, 7, -11, 15, 3, 6, 5, 3], -8)\n",
    "print(result)\n"
   ]
  },
  {
   "cell_type": "markdown",
   "metadata": {},
   "source": [
    "## Three Sum Problem"
   ]
  },
  {
   "cell_type": "code",
   "execution_count": 25,
   "metadata": {},
   "outputs": [
    {
     "name": "stdout",
     "output_type": "stream",
     "text": [
      "6\n",
      "{4: [-2, -2], 3: [-2, -1], 1: [-1, 0], -2: [0, 2], -6: [2, 4]}\n",
      "[[-2, -2, 4], [0, 2, -2]]\n"
     ]
    }
   ],
   "source": [
    "#thre sum for 0\n",
    "\n",
    "\n",
    "def threesums(nums):\n",
    "    print(len(nums))\n",
    "    if len(nums) < 3:\n",
    "        print(\"not possible for less than 3 \")\n",
    "    else:\n",
    "        nums = sorted(nums)\n",
    "        if nums[1] > 0:\n",
    "            print(\"not possible for all positive values\")\n",
    "        else:\n",
    "            result = []\n",
    "            hT = {}\n",
    "            for i in range(0, len(nums)-1):\n",
    "                j = i+1\n",
    "                partialvalue = (0 - (nums[i]  + nums[j]))\n",
    "                #print(nums[i], nums[j])\n",
    "                if partialvalue in nums:\n",
    "                    #print(partialvalue)\n",
    "                    result.append([nums[i], nums[j], partialvalue])\n",
    "                hT[partialvalue] = [nums[i] , nums[j]]          \n",
    "            print(hT)\n",
    "    return result \n",
    "\n",
    "\n",
    "\n",
    "\n",
    "nums = [-2, 0,-2, 2, -1, 4]\n",
    "result = threesums(nums)\n",
    "print(result)"
   ]
  },
  {
   "cell_type": "markdown",
   "metadata": {},
   "source": [
    "### Given a string s, find the longest palindromic substring in s. You may assume that the maximum length of s is 1000.\n"
   ]
  },
  {
   "cell_type": "raw",
   "metadata": {},
   "source": [
    "\n",
    "Example 1:\n",
    "\n",
    "Input: \"babad\"\n",
    "Output: \"bab\"\n",
    "Note: \"aba\" is also a valid answer.\n",
    "Example 2:\n",
    "\n",
    "Input: \"cbbd\"\n",
    "Output: \"bb\""
   ]
  },
  {
   "cell_type": "code",
   "execution_count": 47,
   "metadata": {},
   "outputs": [],
   "source": [
    "from itertools import combinations \n",
    "#Palindrome \n",
    "\n",
    "def checkPalindrome(string1):\n",
    "    pstring = string1[::-1]\n",
    "    if string1 == pstring:\n",
    "        return True\n"
   ]
  },
  {
   "cell_type": "code",
   "execution_count": 10,
   "metadata": {},
   "outputs": [
    {
     "name": "stdout",
     "output_type": "stream",
     "text": [
      "['bd', ['cbbd'], ['bd'], ['cbbd'], ['bd']]\n"
     ]
    }
   ],
   "source": [
    "from itertools import combinations \n",
    "x = \"cbbd\"\n",
    "for i in range(len(x),0, -2):\n",
    "    for l in combinations(x, i):\n",
    "        string = [''.join(l)]\n",
    "    substring.append(string)\n",
    "    \n",
    "print(substring)\n"
   ]
  },
  {
   "cell_type": "markdown",
   "metadata": {},
   "source": [
    "#### Answer "
   ]
  },
  {
   "cell_type": "code",
   "execution_count": 134,
   "metadata": {},
   "outputs": [
    {
     "name": "stdout",
     "output_type": "stream",
     "text": [
      "['b', 'ba', 'bab', 'baba', 'babad', 'a', 'ab', 'aba', 'abad', 'b', 'ba', 'bad', 'a', 'ad', 'd']\n",
      "{'b': 1, 'bab': 3, 'a': 1, 'aba': 3, 'd': 1}\n",
      "{'bab': 293, 'aba': 292}\n",
      "aba\n"
     ]
    }
   ],
   "source": [
    "from itertools import combinations\n",
    "x = 'babad'\n",
    "result = {}\n",
    "if len(x) == 1:\n",
    "    print(\"String of one character cannot be palindrome\")\n",
    "else:\n",
    "    #substrings = [''.join(l) for i in range(len(x), 0 , -1) for l in combinations(x, i+1)]\n",
    "    length = len(x)\n",
    "    substrings = [x[i:j+1] for i in range(length) for j in range(i,length)]\n",
    "    print(substrings)\n",
    "    \n",
    "    for i, s in enumerate(substrings):\n",
    "        teststring = s[::-1]\n",
    "        if s == teststring:\n",
    "            result[s] = len(s)\n",
    "        \n",
    "    \n",
    "    print(result)\n",
    "    val = max(result, key=result.get)\n",
    "    val = result[val]\n",
    "    res= {}\n",
    "    \n",
    "    for key in result:\n",
    "        if result[key] == val:\n",
    "            asciiV = sum([ord(ch)  for ch in key])\n",
    "            res[key] = asciiV\n",
    "    print(res)\n",
    "    print(min(res, key=res.get))\n",
    "    \n",
    "    \n",
    "        \n",
    "   \n",
    "\n",
    "\n",
    "        "
   ]
  },
  {
   "cell_type": "code",
   "execution_count": 129,
   "metadata": {},
   "outputs": [
    {
     "name": "stdout",
     "output_type": "stream",
     "text": [
      "['a', 'ab', 'abc', 'abcd', 'abcde', 'b', 'bc', 'bcd', 'bcde', 'c', 'cd', 'cde', 'd', 'de', 'e']\n"
     ]
    }
   ],
   "source": [
    "def get_all_substrings(input_string):\n",
    "    length = len(input_string)\n",
    "    return [input_string[i:j+1] for i in range(length) for j in range(i,length)]\n",
    "\n",
    "res = get_all_substrings('abcde')\n",
    "print(res)"
   ]
  },
  {
   "cell_type": "code",
   "execution_count": 204,
   "metadata": {},
   "outputs": [
    {
     "name": "stdout",
     "output_type": "stream",
     "text": [
      "[[0, 2], [0, 0]]\n"
     ]
    }
   ],
   "source": [
    "def setZeroes(matrix):\n",
    "    firstRowHasZero = False\n",
    "    firstColHasZero = False\n",
    "    if len(matrix)==0 or len(matrix[0]) == 0:\n",
    "        return\n",
    "    for col in range(0,len(matrix[0])):\n",
    "        if matrix[0][col]==0:\n",
    "            firstRowHasZero = True\n",
    "            break\n",
    "    for row in range(0, len(matrix)):\n",
    "        if matrix[row][0]==0:\n",
    "            firstColHasZero = True\n",
    "            break\n",
    "            \n",
    "    for row in range(1, len(matrix)):\n",
    "        for col in range(1,len(matrix[0])):\n",
    "            if matrix[row][col] == 0:\n",
    "                matrix[0][col] = 0\n",
    "                matrix[row][0] = 0\n",
    "        \n",
    "    for row in range(1, len(matrix)):\n",
    "        for col in range(1,len(matrix[0])):\n",
    "            if matrix[row][0] == 0 or matrix[0][col] == 0:\n",
    "                matrix[row][col] = 0\n",
    "    \n",
    "    if firstRowHasZero:\n",
    "        for col in range(0,len(matrix[0])):\n",
    "            matrix[0][col] = 0\n",
    "    \n",
    "    if firstColHasZero:\n",
    "        for row in range(0, len(matrix)):\n",
    "            matrix[row][0] = 0\n",
    "\n",
    "            \n",
    "matrix = [[1,2] , [0,4]]\n",
    "setZeroes(matrix)\n",
    "print(matrix)"
   ]
  },
  {
   "cell_type": "markdown",
   "metadata": {},
   "source": [
    "### Question \n",
    "### Return true if there exists i, j, k  such that arr[i] < arr[j] < arr[k] given 0 ≤ i < j < k ≤ n-1 else return false."
   ]
  },
  {
   "cell_type": "markdown",
   "metadata": {},
   "source": [
    " Read the given condition carefully:\n",
    "    1. It is not asking for contionous triplets with increasing value. eg: 1<2<3<4<5 this is not the only success        case\n",
    "    2. Situation like 2, 1, 5, 0, 4, 6 is also valid as there is atleast one increasing triplet \n",
    "    3. So is -1, -4, 0, 3, 5"
   ]
  },
  {
   "cell_type": "code",
   "execution_count": 225,
   "metadata": {},
   "outputs": [
    {
     "name": "stdout",
     "output_type": "stream",
     "text": [
      "False\n"
     ]
    }
   ],
   "source": [
    "#Triplet Subsequence this is only for continous cases. (ref 1)\n",
    "def increasingTriplet(array):\n",
    "    if len(array)< 3:\n",
    "        return False\n",
    "    else:\n",
    "        for i in range(0, len(array)-2):\n",
    "            j = i+1\n",
    "            k = j+1\n",
    "            if array[i] < array[j]:\n",
    "                if array[j] < array[k]:\n",
    "                    return True\n",
    "                else:\n",
    "                    return False\n",
    "            else:\n",
    "                return False \n",
    "    \n",
    "array = [1, 2, 3, 4, 5]\n",
    "print(increasingTriplet(array))\n"
   ]
  },
  {
   "cell_type": "raw",
   "metadata": {},
   "source": [
    "This is more appropriate answer as it finds atleast one increasing tripplet from the array thus satisifes \n",
    "conditions 2 and 3 and alike"
   ]
  },
  {
   "cell_type": "code",
   "execution_count": 237,
   "metadata": {},
   "outputs": [
    {
     "name": "stdout",
     "output_type": "stream",
     "text": [
      "2\n",
      "0 1 2\n",
      "1 2 5\n",
      "1 2 5\n",
      " -> 1 5 6\n",
      "True\n"
     ]
    }
   ],
   "source": [
    " def increasingTriplet(nums):\n",
    "        if len(nums) < 3:\n",
    "            return False\n",
    "        i,j,k = 0,1,2\n",
    "        while k < len(nums):\n",
    "            print(i,j,k)\n",
    "            if nums[i] < nums[j] and nums[j]<nums[k]:\n",
    "                print( i, j ,k )\n",
    "                print(\" ->\", nums[i] , nums[j] ,nums[k])\n",
    "                return True\n",
    "            while nums[j] <= nums[i]:\n",
    "                i = j\n",
    "                j,k = i+1,i+2\n",
    "                if k > len(nums)-1:\n",
    "                    return False\n",
    "            while nums[k] <= nums[j]:\n",
    "                k += 1\n",
    "                if k > len(nums)-1:\n",
    "                    j,k = j+1,j+2\n",
    "                    break\n",
    "        return False   \n",
    "    \n",
    "nums = [2, 1, 5, 0, 4, 6]\n",
    "print(nums[0])\n",
    "print(increasingTriplet(nums))"
   ]
  },
  {
   "cell_type": "markdown",
   "metadata": {},
   "source": [
    "## Linklist in Python"
   ]
  },
  {
   "cell_type": "code",
   "execution_count": 63,
   "metadata": {},
   "outputs": [
    {
     "name": "stdout",
     "output_type": "stream",
     "text": [
      "4\n",
      "6\n",
      "8\n",
      "12\n",
      "13\n",
      "14\n"
     ]
    }
   ],
   "source": [
    "#define a linklist \n",
    "\n",
    "#defining node as a default class with two values data and next \n",
    "class Node:\n",
    "    def __init__(self, data=None):\n",
    "        self.data = data\n",
    "        self.next = None\n",
    "        \n",
    "\n",
    "#intializing single link list with head         \n",
    "class SingleLinklist:\n",
    "    def __init__(self):\n",
    "        self.head = None\n",
    "      #traverse  \n",
    "    def Print(self):\n",
    "        q = self.head\n",
    "        while q is not None:\n",
    "            print(q.data)\n",
    "            q = q.next\n",
    "    \n",
    "    #added to the last node of the list\n",
    "    def addNode(self, data):\n",
    "        newnode = Node(data)\n",
    "        #if it is the first node\n",
    "        if self.head.next is None:\n",
    "            self.head.next = newnode\n",
    "            return \n",
    "        q = self.head \n",
    "        while(q.next):\n",
    "            q = q.next\n",
    "        q.next = newnode\n",
    "    \n",
    "    def insertNode(self, location, data):\n",
    "        if location is None:\n",
    "            return\n",
    "        new = Node(data)\n",
    "        if self.head.data == location:\n",
    "            new.next = self.head.next\n",
    "            self.head.next = new\n",
    "            return\n",
    "        q = self.head\n",
    "        while (q.next):\n",
    "            q = q.next\n",
    "            if q.data == location:\n",
    "                new.next = q.next\n",
    "                q.next = new\n",
    "                break\n",
    "  \n",
    "    def deleteNode(self, value):\n",
    "        if value is None:\n",
    "            return\n",
    "        q = self.head\n",
    "        if q.data == value:\n",
    "            self.head = q.next\n",
    "            del q\n",
    "            return\n",
    "            \n",
    "        while(q.next):\n",
    "            p = q\n",
    "            q = q.next\n",
    "            if q.data == value:\n",
    "                p.next = q.next\n",
    "                del q\n",
    "            break\n",
    "\n",
    "node1 = Node(2)\n",
    "slinklist = SingleLinklist()\n",
    "slinklist.head = node1\n",
    "node2 = Node(4)\n",
    "\n",
    "#forming the chain\n",
    "slinklist.head.next = node2\n",
    "slinklist.addNode(6)\n",
    "slinklist.insertNode(6, 8)\n",
    "slinklist.deleteNode(2)\n",
    "slinklist.Print()\n",
    "\n",
    "num = [12,13,14]\n",
    "sl = SingleLinklist()\n",
    "q = Node(num[0])\n",
    "sl.head = q\n",
    "for i in range (1, len(num)):\n",
    "    temp = Node(num[i])\n",
    "    q.next = temp\n",
    "    q = q.next\n",
    "\n",
    "sl.Print()\n"
   ]
  },
  {
   "cell_type": "markdown",
   "metadata": {},
   "source": [
    "### Question Add two numbers"
   ]
  },
  {
   "cell_type": "markdown",
   "metadata": {},
   "source": [
    "You are given two non-empty linked lists representing two non-negative integers. The digits are stored in reverse order and each of their nodes contain a single digit. Add the two numbers and return it as a linked list.\n",
    "\n",
    "You may assume the two numbers do not contain any leading zero, except the number 0 itself.\n",
    "\n",
    "Example:\n",
    "\n",
    "Input: (2 -> 4 -> 3) + (5 -> 6 -> 4)\n",
    "Output: 7 -> 0 -> 8\n",
    "Explanation: 342 + 465 = 807."
   ]
  },
  {
   "cell_type": "code",
   "execution_count": null,
   "metadata": {},
   "outputs": [],
   "source": [
    "# Definition for singly-linked list.\n",
    "# class ListNode(object):\n",
    "#     def __init__(self, x):\n",
    "#         self.val = x\n",
    "#         self.next = None\n",
    "    \n",
    "\n",
    "class Solution(object):\n",
    "    def traverse(self, l1):\n",
    "        q = l1\n",
    "        num = []\n",
    "        num.append(q.val)\n",
    "        while q.next != None:\n",
    "            q = q.next\n",
    "            num.append(q.val) \n",
    "        num.reverse()\n",
    "        num = int(''.join(map(str,num)))\n",
    "        print(num)\n",
    "        return num \n",
    "    \n",
    "    def addTwoNumbers(self, l1, l2):\n",
    "        \n",
    "        if (l1 == None) and (l2 == None):\n",
    "            return None\n",
    "        if l1 == None:\n",
    "            return l2\n",
    "        if l2 == None:\n",
    "            return l1\n",
    "        \n",
    "        num1 = self.traverse(l1)\n",
    "        num2 = self.traverse(l2)\n",
    "        num1 = num1 + num2 \n",
    "        num1 = [int(d) for d in str(num1)]\n",
    "        num1.reverse()\n",
    "        print(num1)\n",
    "       \n",
    "        #if it was need to be written back as a linklist type \n",
    "        # q = ListNode(num1[0])\n",
    "        # for i in range (1, len(num1)):\n",
    "        #     temp = Node(num1[i])\n",
    "        #     q.next = temp\n",
    "        #     q = q.next\n",
    "\n",
    "        \n",
    "        return num1\n",
    "    "
   ]
  },
  {
   "cell_type": "markdown",
   "metadata": {},
   "source": [
    "### Question Write a program to find the node at which the intersection of two singly linked lists begins.\n"
   ]
  },
  {
   "cell_type": "raw",
   "metadata": {},
   "source": [
    "Write a program to find the node at which the intersection of two singly linked lists begins.\n",
    "\n",
    "For example, the following two linked lists: \n",
    "\n",
    "Example 1:\n",
    "Input: intersectVal = 8, listA = [4,1,8,4,5], listB = [5,0,1,8,4,5], skipA = 2, skipB = 3\n",
    "Output: Reference of the node with value = 8\n",
    "Input Explanation: The intersected node's value is 8 (note that this must not be 0 if the two lists intersect). From the head of A, it reads as [4,1,8,4,5]. From the head of B, it reads as [5,0,1,8,4,5]. There are 2 nodes before the intersected node in A; There are 3 nodes before the intersected node in B.\n",
    "\n",
    "Input: intersectVal = 2, listA = [0,9,1,2,4], listB = [3,2,4], skipA = 3, skipB = 1\n",
    "Output: Reference of the node with value = 2\n",
    "Input Explanation: The intersected node's value is 2 (note that this must not be 0 if the two lists intersect). From the head of A, it reads as [0,9,1,2,4]. From the head of B, it reads as [3,2,4]. There are 3 nodes before the intersected node in A; There are 1 node before the intersected node in B.\n",
    "\n",
    "If the two linked lists have no intersection at all, return null.\n",
    "The linked lists must retain their original structure after the function returns.\n",
    "You may assume there are no cycles anywhere in the entire linked structure.\n",
    "Your code should preferably run in O(n) time and use only O(1) memory."
   ]
  },
  {
   "cell_type": "code",
   "execution_count": 1,
   "metadata": {},
   "outputs": [
    {
     "name": "stdout",
     "output_type": "stream",
     "text": [
      "<__main__.ListNode object at 0x7febc4675518>\n"
     ]
    }
   ],
   "source": [
    "# Definition for singly-linked list.\n",
    "class ListNode(object):\n",
    "    def __init__(self, x):\n",
    "        self.val = x\n",
    "        self.next = None\n",
    "\n",
    "class Solution(object):\n",
    "    def getIntersectionNode(self, headA, headB):\n",
    "        \"\"\"\n",
    "        :type head1, head1: ListNode\n",
    "        :rtype: ListNode\n",
    "        \"\"\"\n",
    "        if headA == None or headB == None:\n",
    "            return\n",
    "        else:\n",
    "            q = headA\n",
    "            p = headB\n",
    "            while q  != p:\n",
    "                if q == None:\n",
    "                    q = headB\n",
    "                else:\n",
    "                    q = q.next\n",
    "                if p == None:\n",
    "                    p= headA\n",
    "                else:\n",
    "                    p = p.next\n",
    "            return q\n",
    "        \n",
    "headA = ListNode(1)\n",
    "node1 = ListNode(2)\n",
    "headA.next = node1\n",
    "node2 = ListNode(3)\n",
    "node3 = ListNode(4)\n",
    "node1.next = node2\n",
    "node2.next = node3\n",
    "\n",
    "\n",
    "headB = ListNode(9)\n",
    "node1 = ListNode(7)\n",
    "headB.next = node1\n",
    "node2 = ListNode(3)\n",
    "node1.next = node2\n",
    "node2.next = node3\n",
    "node4 = ListNode(10)\n",
    "node3.next = node4\n",
    "\n",
    "\n",
    "sol = Solution()\n",
    "res = sol.getIntersectionNode(headA, headB)\n",
    "print(res)\n",
    "        "
   ]
  },
  {
   "cell_type": "code",
   "execution_count": 4,
   "metadata": {},
   "outputs": [
    {
     "name": "stdout",
     "output_type": "stream",
     "text": [
      "Given array is\n",
      "12 11 13 5 6 7 \n",
      "Sorted array is: \n",
      "5 6 7 11 12 13 \n"
     ]
    }
   ],
   "source": [
    "#Merger Sort \n",
    "# Python program for implementation of MergeSort \n",
    "\n",
    "def mergeSort(arr): \n",
    "    if len(arr) <= 1: \n",
    "        return \n",
    "    \n",
    "    if len(arr) >1: \n",
    "        mid = len(arr)//2 #Finding the mid of the array \n",
    "        L = arr[:mid] # Dividing the array elements  \n",
    "        R = arr[mid:] # into 2 halves \n",
    "  \n",
    "        mergeSort(L) # Sorting the first half \n",
    "        mergeSort(R) # Sorting the second half \n",
    "  \n",
    "        i = j = k = 0\n",
    "          \n",
    "        # Copy data to temp arrays L[] and R[] \n",
    "        while i < len(L) and j < len(R): \n",
    "            if L[i] < R[j]: \n",
    "                arr[k] = L[i] \n",
    "                i+=1\n",
    "            else: \n",
    "                arr[k] = R[j] \n",
    "                j+=1\n",
    "            k+=1\n",
    "          \n",
    "        # Checking if any element was left \n",
    "        while i < len(L): \n",
    "            arr[k] = L[i] \n",
    "            i+=1\n",
    "            k+=1\n",
    "          \n",
    "        while j < len(R): \n",
    "            arr[k] = R[j] \n",
    "            j+=1\n",
    "            k+=1\n",
    "        return None \n",
    "    \n",
    "def printList(arr): \n",
    "    for i in range(len(arr)):         \n",
    "        print(arr[i],end=\" \") \n",
    "    print() \n",
    "    \n",
    "    \n",
    "if __name__ == '__main__': \n",
    "    arr = [12, 11, 13, 5, 6, 7]  \n",
    "    print (\"Given array is\", end=\"\\n\")  \n",
    "    printList(arr) \n",
    "    mergeSort(arr) \n",
    "    print(\"Sorted array is: \", end=\"\\n\") \n",
    "    printList(arr) \n",
    "  \n"
   ]
  },
  {
   "cell_type": "code",
   "execution_count": 49,
   "metadata": {},
   "outputs": [],
   "source": [
    "#Intuit Question 1\n",
    "\n",
    "import sys \n",
    "def findMidpointCourse(pairs):\n",
    "    records = dict(pairs)\n",
    "    preq = []\n",
    "    course = []\n",
    "    \n",
    "    for key, value in records.items():\n",
    "        preq.append(key)\n",
    "        course.append(value)\n",
    "    return None\n",
    "\n",
    "    print(preq)\n",
    "    print(course)\n",
    "\n",
    "def main():\n",
    "    pairs = [(\"DS\", \"Algo\"), (\"FoundationofCS\", \"Os\"), (\"CN\" , \"Carch\"), (\"Algo\", \"FoundationofCS\"), (\"Carch\", \"DS\"), (\"SD\", \"CN\")]  \n",
    "    res = findMidpointCourse(pairs)\n",
    "\n",
    "main()\n"
   ]
  },
  {
   "cell_type": "code",
   "execution_count": 12,
   "metadata": {},
   "outputs": [
    {
     "name": "stdout",
     "output_type": "stream",
     "text": [
      "{'DS': 'Algo', 'FoundationofCS': 'Os', 'CN': 'Carch', 'Algo': 'FoundationofCS', 'Carch': 'DS', 'SD': 'CN'}\n",
      "DS\n"
     ]
    }
   ],
   "source": [
    "import sys \n",
    "def findMidpointCourse(pairs):\n",
    "    dic = {}\n",
    "    preq = []\n",
    "    courses = []\n",
    "    result = []\n",
    "    \n",
    "    for x in pairs:\n",
    "        preq.append(x[0])\n",
    "        courses.append(x[1])\n",
    "    \n",
    "    dic = dict(zip(preq, courses))\n",
    "    print(dic)\n",
    "    \n",
    "    for x in preq:\n",
    "        if courses.count(x) == 0:\n",
    "            result.append(x)\n",
    "            \n",
    "    for i in range(len(preq)-1):\n",
    "        result.append(dic[result[i]])\n",
    "        \n",
    "    if len(result)>0:\n",
    "        mid = (len(result)//2)\n",
    "        return result[mid]\n",
    "    \n",
    "    \n",
    "    return None\n",
    "\n",
    "def main():\n",
    "    pairs = [(\"DS\", \"Algo\"), (\"FoundationofCS\", \"Os\"), (\"CN\" , \"Carch\"), (\"Algo\", \"FoundationofCS\"), (\"Carch\", \"DS\"), (\"SD\", \"CN\")]  \n",
    "    print(findMidpointCourse(pairs))\n",
    "\n",
    "main()\n"
   ]
  },
  {
   "cell_type": "code",
   "execution_count": 45,
   "metadata": {},
   "outputs": [
    {
     "name": "stdout",
     "output_type": "stream",
     "text": [
      "['1', 'hello', 'good', '1', 'hello', 'good', '1', 'hello', 'good']\n",
      "['ok', 'world', 'job', 'ok', 'world', 'job', 'ok', 'world', 'job']\n"
     ]
    }
   ],
   "source": [
    "dict1 = {\"1\":\"ok\", \"hello\":\"world\", \"good\":\"job\"}\n",
    "\n",
    "for k, v in dict1.items():\n",
    "    keys.append(k)\n",
    "    value.append(v)\n",
    "    \n",
    "    \n",
    "print(keys)\n",
    "print(value)"
   ]
  },
  {
   "cell_type": "code",
   "execution_count": 101,
   "metadata": {},
   "outputs": [
    {
     "name": "stdout",
     "output_type": "stream",
     "text": [
      "[('base_server', ['ram = 16G', 'disk= 15G']), ('review_console', [['base_server', 'ram = 32G', 'owner = root']]), ('admin_console', ['ram = 32G', 'owner = root', [0, 'ram = 16G', 'disk= 15G']])]\n"
     ]
    }
   ],
   "source": [
    "#Question 2 \n",
    "\n",
    "import json\n",
    "ConfigurationLines =  \"\"\"\" {[base_server]ram = 16G disk = 15G [review_console:admin_console] [admin_console: base_server] ram = 32G owner = root}\"\"\"\n",
    "                           \n",
    "\n",
    "class Solution():\n",
    "    \n",
    "    def __init__(self):\n",
    "        self.Cdict ={}\n",
    "        \n",
    "    def parseConfiguration(self, ConfigurationLines):\n",
    "        #u would load input into dict with json loads or json load\n",
    "        #Cdict = json.loads(ConfigurationLines)\n",
    "        #print(Cdict)\n",
    "        \n",
    "        Cdict = {\"base_server\" : [ 0 , 'ram = 16G', 'disk= 15G'], \"review_console\" : ['admin_console'], \"admin_console\" : ['base_server', 'ram = 32G', 'owner = root'] }\n",
    "        relation = { \"base_server\" : 0, \"admin_console\": \"base_server\", \"review_console\":\"admin_console\"}\n",
    "        \n",
    "        result = []\n",
    "        for k, v in Cdict.items():\n",
    "            key = k\n",
    "            val = []\n",
    "            \n",
    "            if len(v) == 1:\n",
    "                parent = v[0]\n",
    "                val.append(Cdict[parent])\n",
    "                val = sorted(Cdict[parent])\n",
    "            else:\n",
    "                for i in range(len(v)):\n",
    "                    parent = v[0]\n",
    "                    if i > 0:\n",
    "                        val.append(v[i])\n",
    "                    \n",
    "                if parent != 0:\n",
    "                    val.append(Cdict[parent])\n",
    "                    \n",
    "#                 val = list(set(val))\n",
    "#                 val = sorted(val)\n",
    "        \n",
    "            result.append((key, val))\n",
    "        print(result)\n",
    "                \n",
    "            \n",
    "        return None\n",
    "\n",
    "\n",
    "sol = Solution()\n",
    "sol.parseConfiguration(ConfigurationLines)       \n",
    "        "
   ]
  },
  {
   "cell_type": "code",
   "execution_count": 70,
   "metadata": {},
   "outputs": [
    {
     "name": "stdout",
     "output_type": "stream",
     "text": [
      "[(0, 0), (2, 1), (1, 2), (4, 3), (3, 4)]\n"
     ]
    }
   ],
   "source": [
    "x = {1: 2, 3: 4, 4: 3, 2: 1, 0: 0}\n",
    "sorted_by_value = sorted(x.items(), key=lambda kv: kv[1])\n",
    "print(sorted_by_value)"
   ]
  },
  {
   "cell_type": "code",
   "execution_count": 162,
   "metadata": {},
   "outputs": [
    {
     "name": "stdout",
     "output_type": "stream",
     "text": [
      "['ram:32G', 'owner:root']\n",
      "['ram:32G', 'owner:root']\n",
      "[['ram:16G', 'disk:15G'], []]\n",
      "[['ram:16G', 'disk:15G'], [], ['ram:32G', 'owner:root']]\n"
     ]
    }
   ],
   "source": [
    "#Question 2 \n",
    "\n",
    "import json\n",
    "ConfigurationLines =  \"\"\"\" {[base_server]ram = 16G disk = 15G [review_console:admin_console] [admin_console: base_server] ram = 32G owner = root}\"\"\"\n",
    "                           \n",
    "\n",
    "class Solution():\n",
    "    \n",
    "    def __init__(self):\n",
    "        self.Cdict ={}\n",
    "        \n",
    "    def parseConfiguration(self, ConfigurationLines):\n",
    "        #u would load input into dict with json loads or json load\n",
    "        #Cdict = json.loads(ConfigurationLines)\n",
    "        #print(Cdict)\n",
    "        \n",
    "        Cdict = {\"base_server\" : [ \"ram=16G\" , \"disk=15G\" ], \"review_console\" : [], \"admin_console\" : [ \"ram=32G\", \"owner=root\"] }\n",
    "        relation = { \"base_server\" : 0, \"admin_console\": \"base_server\", \"review_console\":\"admin_console\"}\n",
    "        \n",
    "        result = []\n",
    "        \n",
    "        for k, v in Cdict.items():\n",
    "            parent = relation[k]\n",
    "            if parent == 0:\n",
    "                val = []\n",
    "                val.append(Cdict[k])\n",
    "                #val.append(Cdict[k][1])\n",
    "                val = sorted(val)\n",
    "            else:\n",
    "                val.append(Cdict[k])\n",
    "                y = Cdict[parent]\n",
    "                for i in y:\n",
    "                    if y not in val:\n",
    "                        print(y)\n",
    "                        #val.appned(y)\n",
    "                print(val)\n",
    "                #val = sorted(x)\n",
    "            \n",
    "            \n",
    "            result.append((k,val))\n",
    "            result = sorted(result)\n",
    "        #print(result)     \n",
    "        return None\n",
    "\n",
    "\n",
    "sol = Solution()\n",
    "sol.parseConfiguration(ConfigurationLines)       \n",
    "        "
   ]
  },
  {
   "cell_type": "code",
   "execution_count": 228,
   "metadata": {},
   "outputs": [
    {
     "data": {
      "text/plain": [
       "[('admin_console', {'ram': '16G', 'disk': '15G'}),\n",
       " ('base_server', [{'ram': '16G', 'disk': '15G'}]),\n",
       " ('review_console', {'ram': '32G', 'owner': 'root'})]"
      ]
     },
     "execution_count": 228,
     "metadata": {},
     "output_type": "execute_result"
    }
   ],
   "source": [
    "import json\n",
    "\n",
    "string = \"\"\"{\"base_server\":[{\"ram\":\"16G\",\"disk\":\"15G\"}],\"review_console\":[{}],\"admin_console\":[{\"ram\":\"32G\",\"owner\":\"root\"}]}\"\"\"\n",
    "# string = {\n",
    "#   \"base_server\": [{\n",
    "#         \"ram\":\"16G\",\n",
    "#         \"disk\":\"15G\"\n",
    "#   }],\n",
    "#   \"review_console\": [{}],\n",
    "#   \"admin_console\": [{\n",
    "      \n",
    "#     \"ram\":\"32G\",\n",
    "#     \"owner\":\"root\"\n",
    "#   }]\n",
    "# }\n",
    "\n",
    "class Solution():\n",
    "    def __init__(self):\n",
    "        self.Config = {}\n",
    "        self.value = {}\n",
    "        \n",
    "        \n",
    "    def parseConfig(self, string):\n",
    "        Config = json.loads(string)\n",
    "        relation = { \"base_server\" : 0, \"admin_console\": \"base_server\", \"review_console\":\"admin_console\"}\n",
    "        result = []\n",
    "        for k, v in sorted(Config.items()):\n",
    "            value = {}\n",
    "            parent = relation[k]\n",
    "            if parent == 0:\n",
    "                value = Config[k]\n",
    "                result.append((k,value))\n",
    "                #print(k,value)\n",
    "            else:\n",
    "                parent = Config[parent][0]                    \n",
    "                vakue = Config[k][0]\n",
    "                for key in value:\n",
    "                    parent.pop(key, None)\n",
    "                value.update(parent)\n",
    "                result.append((k,value))\n",
    "                #print(k, value)\n",
    "          \n",
    "        return result\n",
    "\n",
    "sol = Solution()\n",
    "sol.parseConfig(string)\n",
    "\n",
    "                \n",
    "    "
   ]
  },
  {
   "cell_type": "markdown",
   "metadata": {},
   "source": [
    "## Top K Frequenct Problem Leetcode"
   ]
  },
  {
   "cell_type": "code",
   "execution_count": 2,
   "metadata": {},
   "outputs": [
    {
     "name": "stdout",
     "output_type": "stream",
     "text": [
      "[-1, 2]\n"
     ]
    }
   ],
   "source": [
    "import operator\n",
    "from collections import defaultdict\n",
    "import heapq\n",
    "\n",
    "class Solution():\n",
    "    def topKFrequent(self, nums, k):\n",
    "        if len(nums) == k:\n",
    "            return nums\n",
    "\n",
    "        counts = defaultdict(int)\n",
    "\n",
    "        heap = []\n",
    "        index = 0\n",
    "\n",
    "        for i in nums:\n",
    "            if i in counts:\n",
    "                counts[i] += 1\n",
    "            else:\n",
    "                counts[i] = 1\n",
    "\n",
    "        for key, val in counts.items():\n",
    "            if index == k:\n",
    "                if heap[0][0] < val:\n",
    "                    heapq.heappop(heap)\n",
    "                    heapq.heappush(heap, (val, key))\n",
    "            else:\n",
    "                heapq.heappush(heap, (val, key))\n",
    "                index = index + 1\n",
    "\n",
    "        freq = heapq.nlargest(k, heap, key=lambda e: e[0])\n",
    "        results = [e[1] for e in freq]\n",
    "        return results\n",
    "\n",
    "sol = Solution()\n",
    "res = sol.topKFrequent([4,1,-1,2,-1,2,3], 2)\n",
    "print(res)\n"
   ]
  },
  {
   "cell_type": "code",
   "execution_count": 3,
   "metadata": {},
   "outputs": [
    {
     "name": "stdout",
     "output_type": "stream",
     "text": [
      "A : []\n",
      "B : ['K']\n",
      "C : ['K']\n",
      "E : []\n",
      "F : ['G', ['H', 'I']]\n",
      "J : ['M']\n"
     ]
    }
   ],
   "source": [
    "#My intuit question round 1 \n",
    "import sys\n",
    "import json\n",
    "\n",
    "# Prints to standard output.\n",
    "def findStartAndEndLocations():\n",
    "    # IMPLEMENTATION GOES HERE\n",
    "\n",
    "    #routes = {'B': 'A', 'C': 'A', 'D': 'A', 'A': 'F'}\n",
    "    routes = {'A': ['B', 'C'], 'B': 'K', 'C': 'K', 'E': ['L', 'F'], 'F':  'G', 'J': 'M', 'G': ['H', 'I']}\n",
    "\n",
    "\n",
    "    # read input and store in dict\n",
    "    #routes = dict(pairs)\n",
    "    tempstart = []\n",
    "    tempdestination = []\n",
    "    start = []\n",
    "    destination = []\n",
    "    answer = {}\n",
    "\n",
    "    for k, v in routes.items():\n",
    "        tempstart.append(k)\n",
    "        tempdestination.append(v)\n",
    "\n",
    "    for val in tempstart:\n",
    "        if val not in tempdestination:\n",
    "            start.append(val)\n",
    "\n",
    "    for val in tempdestination:\n",
    "        if val not in tempstart:\n",
    "            destination.append(val)\n",
    "\n",
    "    for i in start:\n",
    "        answer[i] = []\n",
    "        port = routes[i]\n",
    "        if len(port) == 1:\n",
    "            if port in destination:\n",
    "                answer[i].append(port)\n",
    "            else:\n",
    "                for ip in port:\n",
    "                    answer[i].append(ip)\n",
    "                    p = routes[ip]\n",
    "                    if p in destination:\n",
    "                        answer[i].append(p)\n",
    "\n",
    "                    else:\n",
    "                        continue\n",
    "\n",
    "    for k, v in sorted(answer.items()):\n",
    "        print(k, \":\", v)\n",
    "\n",
    "    # print(answer)\n",
    "    pass\n",
    "\n",
    "\n",
    "# DO NOT MODIFY BELOW THIS LINE\n",
    "def main():\n",
    "    # pairs = []\n",
    "    #\n",
    "    # for line in sys.stdin:\n",
    "    #     if len(line.strip()) == 0:\n",
    "    #         continue\n",
    "    #\n",
    "    #     line = line.rstrip()\n",
    "    #\n",
    "    #     pairs.append(line.split(\" \"))\n",
    "\n",
    "    findStartAndEndLocations()\n",
    "\n",
    "\n",
    "main()\n"
   ]
  },
  {
   "cell_type": "markdown",
   "metadata": {},
   "source": [
    "### Kth Largest Element in an Array"
   ]
  },
  {
   "cell_type": "markdown",
   "metadata": {},
   "source": [
    "Find the kth largest element in an unsorted array. Note that it is the kth largest element in the sorted order, not the kth distinct element.\n",
    "\n",
    "Example 1:\n",
    "\n",
    "Input: [3,2,1,5,6,4] and k = 2\n",
    "Output: 5\n",
    "Example 2:\n",
    "\n",
    "Input: [3,2,3,1,2,4,5,5,6] and k = 4\n",
    "Output: 4\n",
    "Note: \n",
    "You may assume k is always valid, 1 ≤ k ≤ array's length."
   ]
  },
  {
   "cell_type": "code",
   "execution_count": 5,
   "metadata": {},
   "outputs": [
    {
     "name": "stdout",
     "output_type": "stream",
     "text": [
      "1\n"
     ]
    }
   ],
   "source": [
    "nums = [2,1]\n",
    "k = 2 \n",
    "n = len(nums)        \n",
    "if n == 1:\n",
    "    print (nums[0])       \n",
    "nums = sorted(nums)\n",
    "for i in range(0, n):\n",
    "    if i == (n-k):\n",
    "        print(nums[i])\n",
    "        #return nums[i]"
   ]
  },
  {
   "cell_type": "markdown",
   "metadata": {},
   "source": [
    "### Note the difference in value and inedx for these for loops"
   ]
  },
  {
   "cell_type": "code",
   "execution_count": 9,
   "metadata": {},
   "outputs": [
    {
     "name": "stdout",
     "output_type": "stream",
     "text": [
      "0 2\n",
      "1 4\n",
      "2 7\n",
      "3 8\n",
      "4 9\n",
      "5 10\n",
      "2\n",
      "4\n",
      "7\n",
      "8\n",
      "9\n",
      "10\n",
      "0 2\n",
      "1 4\n",
      "2 7\n",
      "3 8\n",
      "4 9\n",
      "5 10\n",
      "1 4\n",
      "2 7\n",
      "3 8\n",
      "4 9\n",
      "5 10\n"
     ]
    }
   ],
   "source": [
    "nums = [2,4,7,8,9,10]\n",
    "\n",
    "for i in range(len(nums)):\n",
    "    print(i, nums[i])\n",
    "\n",
    "for i in nums:\n",
    "    print(i)\n",
    "\n",
    "for i, value in enumerate(nums):\n",
    "    print(i, value)\n",
    "    \n",
    "for i in range(1, len(nums)):\n",
    "    print(i, nums[i])"
   ]
  },
  {
   "cell_type": "markdown",
   "metadata": {},
   "source": [
    "## Find the peak element in a list"
   ]
  },
  {
   "cell_type": "code",
   "execution_count": null,
   "metadata": {},
   "outputs": [],
   "source": [
    "class Solution(object):\n",
    "    def findPeakElement(self, nums):\n",
    "        \"\"\"\n",
    "        :type nums: List[int]\n",
    "        :rtype: int\n",
    "        \"\"\"\n",
    "        if len(nums) == 1:\n",
    "            return 0\n",
    "       \n",
    "        for i in range(0, len(nums)):           \n",
    "            if i == 0:\n",
    "                if nums[i] > nums[i+1]:\n",
    "                    return i\n",
    "                \n",
    "            else:\n",
    "                #if the left element is smaller than current element\n",
    "                if nums[i] > nums[i-1]:\n",
    "                    #if the right element is also smaller than current element reutrn peak value\n",
    "                    if i < len(nums)-1:\n",
    "                        if nums[i] > nums[i+1]:\n",
    "                            peak = nums[i]\n",
    "                            return i\n",
    "                        else:\n",
    "                            i +=1\n",
    "                            continue\n",
    "                    else:\n",
    "                        return i\n",
    "                \n",
    "sol = Solution()\n",
    "nums = [2,3,4,2,7,8]\n",
    "sol.findPeakElement(nums)"
   ]
  },
  {
   "cell_type": "markdown",
   "metadata": {},
   "source": [
    "## String Anagram Leetcode"
   ]
  },
  {
   "cell_type": "code",
   "execution_count": 48,
   "metadata": {},
   "outputs": [
    {
     "name": "stdout",
     "output_type": "stream",
     "text": [
      "{'m', 'y', 'g', 'z', 'r', 's', 'w', 'i', 'c', 'n', 'a', 'l', 'x', 'f', 'v'} {'m', 'g', 'o', 'h', 'p', 'j', 'q', 'r', 's', 'w', 'b', 'i', 'd', 'e', 'l', 'k', 'x', 'u', 'v', 't'}\n",
      "{'m', 'g', 'r', 's', 'w', 'i', 'l', 'x', 'v'}\n",
      "32\n",
      "20 30\n"
     ]
    }
   ],
   "source": [
    "#String Anagram\n",
    "#there is a bug in this code. As set stores only unique values it won't count for \n",
    "#repeating values and hence this code will cras\n",
    "str1  = \"fcrxzwscanmligyxyvym\"\n",
    "str2  = \"jxwtrhvujlmrpdoqbisbwhmgpmeoke\"\n",
    "\n",
    "def isAnagram(strA, strB):\n",
    "    str1 = set(strA.lower())\n",
    "    str2 = set(strB.lower())\n",
    "    print(str1, str2)\n",
    "    diff = str1.difference(str2)\n",
    "    \n",
    "    intersect = str1.intersection(str2)\n",
    "    print(intersect)\n",
    "    val = len(strA) + len(strB) - (2*len(intersect))\n",
    "    \n",
    "    print(val)\n",
    "    return bool(diff)\n",
    "    \n",
    "\n",
    "result = isAnagram(str1, str2)\n",
    "print(len(str1), len(str2))\n",
    "if result == False:\n",
    "    print(\"Strings are anagram\")\n"
   ]
  },
  {
   "cell_type": "code",
   "execution_count": 45,
   "metadata": {},
   "outputs": [
    {
     "name": "stdout",
     "output_type": "stream",
     "text": [
      "30\n"
     ]
    }
   ],
   "source": [
    "\n",
    "def buildMap(s):\n",
    "    the_map = {}\n",
    "    for char in s:\n",
    "        if char not in the_map:\n",
    "            the_map[char] = 1\n",
    "        else:\n",
    "            the_map[char] +=1\n",
    " \n",
    "    return the_map       \n",
    " \n",
    "def anagram(s1, s2):\n",
    "    map1 = buildMap(s1)\n",
    "    map2 = buildMap(s2)\n",
    " \n",
    "    diff_cnt = 0\n",
    "    for key in map2.keys():\n",
    "        if key not in map1:\n",
    "            diff_cnt += map2[key]\n",
    "        else:\n",
    "            diff_cnt += max(0, map2[key]-map1[key])\n",
    " \n",
    "    for key in map1.keys():\n",
    "        if key not in map2:\n",
    "            diff_cnt += map1[key]\n",
    "        else:\n",
    "            diff_cnt += max(0, map1[key]-map2[key])\n",
    " \n",
    "    return diff_cnt\n",
    " \n",
    "if __name__ == '__main__':\n",
    "    s1 = 'fcrxzwscanmligyxyvym'\n",
    "    s2 = 'jxwtrhvujlmrpdoqbisbwhmgpmeoke'\n",
    "    print(anagram(s1, s2))"
   ]
  },
  {
   "cell_type": "code",
   "execution_count": 6,
   "metadata": {},
   "outputs": [
    {
     "name": "stdout",
     "output_type": "stream",
     "text": [
      "{'google.com', 'com'}\n",
      "{'com', 'yahoo.com'}\n",
      "{'com', 'yahoo.com'}\n",
      "{'com', 'yahoo.com'}\n",
      "{'com', 'yahoo.com'}\n",
      "{'stackoverflow.com', 'com'}\n",
      "{'wikipedia.org', 'org'}\n",
      "{'wikipedia.org', 'org'}\n",
      "{'mobile.sports', 'sports'}\n",
      "{'com': 1320, 'google.com': 900, 'yahoo.com': 410, 'stackoverflow.com': 10, 'org': 3, 'wikipedia.org': 3, 'sports': 1, 'mobile.sports': 1}\n"
     ]
    }
   ],
   "source": [
    "'''\n",
    "My intuit question round 2\n",
    "You are in charge of a display advertising program. Your ads are displayed on websites all over the internet. You have some CSV input data that counts how many times that users have clicked on an ad on each individual domain. Every line consists of a count and a domain name. It looks like this:\n",
    "\n",
    "counts = [ \"900,google.com\",\n",
    "     \"60,mail.yahoo.com\",\n",
    "     \"10,mobile.sports.yahoo.com\",\n",
    "     \"40,sports.yahoo.com\",\n",
    "     \"300,yahoo.com\",\n",
    "     \"10,stackoverflow.com\",\n",
    "     \"2,en.wikipedia.org\",\n",
    "     \"1,es.wikipedia.org\",\n",
    "     \"1,mobile.sports\" ]\n",
    "\n",
    "Write a function that takes this input as a parameter and returns a data structure containing the number of hits that were recorded on each domain AND each domain under it. For example, an impression on \"mail.yahoo.com\" counts for \"mail.yahoo.com\", \"yahoo.com\", and \"com\". (Subdomains are added to the left of their parent domain. So \"mail\" and \"mail.yahoo\" are not valid domains. Note that \"mobile.sports\" appears as a separate domain as the last item of the input.)\n",
    "\n",
    "Sample output (in any order/format):\n",
    "\n",
    "getTotalsByDomain(counts)\n",
    "1320    com\n",
    " 900    google.com\n",
    " 410    yahoo.com\n",
    "  60    mail.yahoo.com\n",
    "  10    mobile.sports.yahoo.com\n",
    "  50    sports.yahoo.com\n",
    "  10    stackoverflow.com\n",
    "   3    org\n",
    "   3    wikipedia.org\n",
    "   2    en.wikipedia.org\n",
    "   1    es.wikipedia.org\n",
    "   1    mobile.sports\n",
    "   1    sports\n",
    "\n",
    "'''\n",
    "\n",
    "\n",
    "def parser(counts):\n",
    "    # print(counts)\n",
    "    dictCounts = {}\n",
    "\n",
    "    # the logic goes here\n",
    "\n",
    "    for value in counts:\n",
    "        value = value.split(',')\n",
    "        temp = value[1].split('.')\n",
    "        # print(temp)\n",
    "\n",
    "        Keys = set()\n",
    "        # this is for the main domain\n",
    "        key = temp[len(temp) - 1]\n",
    "        Keys.add(key)\n",
    "        if key not in dictCounts:\n",
    "            dictCounts[key] = int(value[0])\n",
    "        else:\n",
    "            dictCounts[key] = dictCounts[key] + int(value[0])\n",
    "\n",
    "        # the subdomain\n",
    "        key = temp[len(temp) - 2] + '.' + temp[len(temp) - 1]\n",
    "        Keys.add(key)\n",
    "\n",
    "        if key not in dictCounts:\n",
    "            dictCounts[key] = int(value[0])\n",
    "        else:\n",
    "            dictCounts[key] = dictCounts[key] + int(value[0])\n",
    "\n",
    "            #print(key)\n",
    "\n",
    "        print(Keys)\n",
    "\n",
    "    return dictCounts\n",
    "\n",
    "\n",
    "counts = [\"900,google.com\",\n",
    "          \"60,mail.yahoo.com\",\n",
    "          \"10,mobile.sports.yahoo.com\",\n",
    "          \"40,sports.yahoo.com\",\n",
    "          \"300,yahoo.com\",\n",
    "          \"10,stackoverflow.com\",\n",
    "          \"2,en.wikipedia.org\",\n",
    "          \"1,es.wikipedia.org\",\n",
    "          \"1,mobile.sports\"]\n",
    "\n",
    "result = parser(counts)\n",
    "print(result)"
   ]
  },
  {
   "cell_type": "code",
   "execution_count": null,
   "metadata": {},
   "outputs": [],
   "source": []
  }
 ],
 "metadata": {
  "kernelspec": {
   "display_name": "Python 3",
   "language": "python",
   "name": "python3"
  },
  "language_info": {
   "codemirror_mode": {
    "name": "ipython",
    "version": 3
   },
   "file_extension": ".py",
   "mimetype": "text/x-python",
   "name": "python",
   "nbconvert_exporter": "python",
   "pygments_lexer": "ipython3",
   "version": "3.6.7"
  }
 },
 "nbformat": 4,
 "nbformat_minor": 2
}
